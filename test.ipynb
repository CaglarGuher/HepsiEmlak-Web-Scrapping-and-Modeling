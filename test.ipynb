{
 "cells": [
  {
   "cell_type": "code",
   "execution_count": 1,
   "metadata": {},
   "outputs": [],
   "source": [
    "import requests\n",
    "from bs4 import BeautifulSoup\n",
    "\n",
    "base_url = \"https://www.hepsiemlak.com/en/altindag-kiralik?page=3\"\n",
    "\n",
    "# Function to fetch house URLs from a single page\n",
    "def get_house_urls(page_content):\n",
    "    soup = BeautifulSoup(page_content, \"lxml\")\n",
    "    houses = soup.select(\".card-link\")\n",
    "    house_urls = [\"https://www.hepsiemlak.com\" + house[\"href\"] for house in houses]\n",
    "    return house_urls"
   ]
  },
  {
   "cell_type": "code",
   "execution_count": 2,
   "metadata": {},
   "outputs": [
    {
     "name": "stderr",
     "output_type": "stream",
     "text": [
      "c:\\Users\\PC\\anaconda3\\envs\\machine_learn\\lib\\site-packages\\bs4\\__init__.py:404: MarkupResemblesLocatorWarning: The input looks more like a URL than markup. You may want to use an HTTP client like requests to get the document behind the URL, and feed that document to Beautiful Soup.\n",
      "  warnings.warn(\n"
     ]
    },
    {
     "data": {
      "text/plain": [
       "[]"
      ]
     },
     "execution_count": 2,
     "metadata": {},
     "output_type": "execute_result"
    }
   ],
   "source": [
    "get_house_urls(base_url)\n"
   ]
  },
  {
   "cell_type": "code",
   "execution_count": 3,
   "metadata": {},
   "outputs": [],
   "source": [
    "url = \"https://www.hepsiemlak.com/en/altindag-kiralik?page=3\"\n",
    "response = requests.get(url)\n",
    "content = response.content\n",
    "\n",
    "soup = BeautifulSoup(content, 'lxml')\n",
    "\n",
    "value = soup.find_all(\"div\",class_ =\"links\")\n"
   ]
  },
  {
   "cell_type": "code",
   "execution_count": 4,
   "metadata": {},
   "outputs": [
    {
     "data": {
      "text/plain": [
       "<div class=\"links\" data-v-2eab19b7=\"\"><a class=\"card-link\" data-v-2eab19b7=\"\" href=\"/en/ankara-altindag-gunesevler-kiralik/daire/136504-34\" title=\"130 Square Meters Apartment For Rent in Altındağ, Ankara\"></a></div>"
      ]
     },
     "execution_count": 4,
     "metadata": {},
     "output_type": "execute_result"
    }
   ],
   "source": [
    "value[0]"
   ]
  },
  {
   "cell_type": "code",
   "execution_count": 6,
   "metadata": {},
   "outputs": [
    {
     "name": "stdout",
     "output_type": "stream",
     "text": [
      "https://www.hepsiemlak.com/en/ankara-altindag-aydinlikevler-kiralik/daire/8767-2708\n",
      "https://www.hepsiemlak.com/en/ankara-altindag-gultepe-kiralik/daire/130309-144\n",
      "https://www.hepsiemlak.com/en/ankara-altindag-aydinlikevler-kiralik/daire/28040-1424\n",
      "https://www.hepsiemlak.com/en/ankara-altindag-aydinlikevler-kiralik/daire/69104-1408\n",
      "https://www.hepsiemlak.com/en/ankara-altindag-aydinlikevler-kiralik/daire/8767-2696\n",
      "https://www.hepsiemlak.com/en/ankara-altindag-aydinlikevler-kiralik/daire/121272-373\n",
      "https://www.hepsiemlak.com/en/ankara-altindag-aydinlikevler-kiralik/daire/8767-2709\n",
      "https://www.hepsiemlak.com/en/ankara-altindag-aydinlikevler-kiralik/daire/8767-2711\n",
      "https://www.hepsiemlak.com/en/ankara-altindag-gultepe-kiralik/daire/96259-405\n",
      "https://www.hepsiemlak.com/en/ankara-altindag-gultepe-kiralik/daire/33155-1231\n",
      "https://www.hepsiemlak.com/en/ankara-altindag-gunesevler-kiralik/daire/4581-6820\n",
      "https://www.hepsiemlak.com/en/ankara-altindag-baraj-kiralik/daire/87775-529\n",
      "https://www.hepsiemlak.com/en/ankara-altindag-aydinlikevler-kiralik/daire/123073-244\n",
      "https://www.hepsiemlak.com/en/ankara-altindag-ornek-kiralik/daire/64344-1085\n",
      "https://www.hepsiemlak.com/en/ankara-altindag-hacettepe-kiralik/daire/8168-2516\n",
      "https://www.hepsiemlak.com/en/ankara-altindag-hacettepe-kiralik/daire/81348-627\n",
      "https://www.hepsiemlak.com/en/ankara-altindag-ornek-kiralik/daire/7788-2296\n",
      "https://www.hepsiemlak.com/en/ankara-altindag-aydinlikevler-kiralik/daire/123227-539\n",
      "https://www.hepsiemlak.com/en/ankara-altindag-aydinlikevler-kiralik/daire/20665-1264\n",
      "https://www.hepsiemlak.com/en/ankara-altindag-gultepe-kiralik/daire/3420-9245\n",
      "https://www.hepsiemlak.com/en/ankara-altindag-hacettepe-kiralik/daire/131613-32\n",
      "https://www.hepsiemlak.com/en/ankara-altindag-ornek-kiralik/daire/64344-1084\n",
      "https://www.hepsiemlak.com/en/ankara-altindag-ornek-kiralik/daire/0-40583487\n",
      "https://www.hepsiemlak.com/en/ankara-altindag-gultepe-kiralik/daire/131346-312\n"
     ]
    }
   ],
   "source": [
    "import time\n",
    "\n",
    "\n",
    "\n",
    "for i in range (1,2):\n",
    "    url = f\"https://www.hepsiemlak.com/en/altindag-kiralik?page={i}\"\n",
    "    time.sleep(2)\n",
    "    response = requests.get(url)\n",
    "    content = response.content\n",
    "\n",
    "    soup = BeautifulSoup(content, 'lxml')\n",
    "\n",
    "    value = soup.find_all(\"div\",class_ =\"links\")\n",
    "\n",
    "    for value in value:\n",
    "        link_elements = value('a', class_='card-link')\n",
    "\n",
    "        links = []\n",
    "        for link_element in link_elements:\n",
    "            href = link_element['href']\n",
    "            full_url = f'https://www.hepsiemlak.com{href}'\n",
    "            links.append(full_url)\n",
    "\n",
    "        # Print the links\n",
    "        for link in links:\n",
    "            print(link)"
   ]
  }
 ],
 "metadata": {
  "kernelspec": {
   "display_name": "machine_learn",
   "language": "python",
   "name": "python3"
  },
  "language_info": {
   "codemirror_mode": {
    "name": "ipython",
    "version": 3
   },
   "file_extension": ".py",
   "mimetype": "text/x-python",
   "name": "python",
   "nbconvert_exporter": "python",
   "pygments_lexer": "ipython3",
   "version": "3.9.15"
  },
  "orig_nbformat": 4
 },
 "nbformat": 4,
 "nbformat_minor": 2
}
