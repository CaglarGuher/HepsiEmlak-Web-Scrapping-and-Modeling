{
 "cells": [
  {
   "cell_type": "code",
   "execution_count": 65,
   "metadata": {},
   "outputs": [],
   "source": [
    "import pandas as pd"
   ]
  },
  {
   "cell_type": "code",
   "execution_count": 66,
   "metadata": {},
   "outputs": [],
   "source": [
    "import sys\n",
    "stdout = sys.stdout\n",
    "\n",
    "# some functions that mess up sys.stdout\n",
    "\n",
    "sys.stdout = stdout"
   ]
  },
  {
   "cell_type": "code",
   "execution_count": 67,
   "metadata": {},
   "outputs": [
    {
     "name": "stderr",
     "output_type": "stream",
     "text": [
      "C:\\Users\\PC\\AppData\\Local\\Temp\\ipykernel_19068\\1769208789.py:1: DtypeWarning: Columns (27,28,29) have mixed types. Specify dtype option on import or set low_memory=False.\n",
      "  df = pd.read_csv(\"total_house_prices.csv\",index_col=0)\n"
     ]
    }
   ],
   "source": [
    "df = pd.read_csv(\"total_house_prices.csv\",index_col=0)"
   ]
  },
  {
   "cell_type": "code",
   "execution_count": 68,
   "metadata": {},
   "outputs": [
    {
     "data": {
      "text/plain": [
       "City                         0\n",
       "District                     0\n",
       "Neighborhood                 0\n",
       "İlan no                      0\n",
       "Son Güncelleme Tarihi        0\n",
       "Oda + Salon Sayısı           0\n",
       "Brüt / Net M2                0\n",
       "Bulunduğu Kat             1773\n",
       "Bina Yaşı                    0\n",
       "Isınma Tipi                  0\n",
       "Kat Sayısı                  26\n",
       "Krediye Uygunluk             4\n",
       "Eşya Durumu               2051\n",
       "Banyo Sayısı                22\n",
       "Kullanım Durumu           1951\n",
       "Takas                     3313\n",
       "Cephe                     4624\n",
       "Rent                         0\n",
       "Tapu Durumu               3574\n",
       "Yapı Tipi                 7256\n",
       "Yapının Durumu            6698\n",
       "Aidat                    14733\n",
       "Kira Getirisi            16246\n",
       "Yakıt Tipi                5771\n",
       "Yetkili Ofis              9566\n",
       "Site İçerisinde          30259\n",
       "Depozito                 33322\n",
       "Kapalı Alan M2           33325\n",
       "Açık Alan M2             33325\n",
       "Bina Sayısı              33325\n",
       "Ada No                   33324\n",
       "Parsel No                33324\n",
       "dtype: int64"
      ]
     },
     "execution_count": 68,
     "metadata": {},
     "output_type": "execute_result"
    }
   ],
   "source": [
    "df.isna().sum()"
   ]
  },
  {
   "cell_type": "code",
   "execution_count": 69,
   "metadata": {},
   "outputs": [
    {
     "data": {
      "text/plain": [
       "City                     0\n",
       "District                 0\n",
       "Neighborhood             0\n",
       "Oda + Salon Sayısı       0\n",
       "Brüt / Net M2            0\n",
       "Bulunduğu Kat         1773\n",
       "Bina Yaşı                0\n",
       "Isınma Tipi              0\n",
       "Kat Sayısı              26\n",
       "Krediye Uygunluk         4\n",
       "Eşya Durumu           2051\n",
       "Banyo Sayısı            22\n",
       "Kullanım Durumu       1951\n",
       "Cephe                 4624\n",
       "Rent                     0\n",
       "dtype: int64"
      ]
     },
     "execution_count": 69,
     "metadata": {},
     "output_type": "execute_result"
    }
   ],
   "source": [
    "df_v1 = df.iloc[:,:18]\n",
    "\n",
    "df_v1 =df_v1.drop(columns=[\"İlan no\", \"Son Güncelleme Tarihi\", \"Takas\"])\n",
    "df_v1.isna().sum()\n",
    "\n"
   ]
  },
  {
   "cell_type": "code",
   "execution_count": 70,
   "metadata": {},
   "outputs": [
    {
     "data": {
      "text/plain": [
       "City                  0\n",
       "District              0\n",
       "Neighborhood          0\n",
       "Oda + Salon Sayısı    0\n",
       "Brüt / Net M2         0\n",
       "Bulunduğu Kat         0\n",
       "Bina Yaşı             0\n",
       "Isınma Tipi           0\n",
       "Kat Sayısı            0\n",
       "Krediye Uygunluk      0\n",
       "Eşya Durumu           0\n",
       "Banyo Sayısı          0\n",
       "Kullanım Durumu       0\n",
       "Cephe                 0\n",
       "Rent                  0\n",
       "dtype: int64"
      ]
     },
     "execution_count": 70,
     "metadata": {},
     "output_type": "execute_result"
    }
   ],
   "source": [
    "df_v2 = df_v1.dropna()\n",
    "df_v2.isna().sum()"
   ]
  },
  {
   "cell_type": "code",
   "execution_count": 71,
   "metadata": {},
   "outputs": [],
   "source": [
    "df_v2 = df_v2.rename(columns={'Oda + Salon Sayısı': 'Num_Of_Room', 'Brüt / Net M2': 'Area',\n",
    "                               'Bulunduğu Kat': 'Floor',\"Bina Yaşı\":\"Age\",\"Isınma Tipi\":\"Heat_type\",\"Kat Sayısı\":\"Apt_Floor\",\n",
    "                               \"Krediye Uygunluk\":\"Credit_Eli\",\"Eşya Durumu\":\"Items\",\"Banyo Sayısı\":\"Num_of_Bath\",\"Kullanım Durumu\":\"Usage\",\"Cephe\":\"Side\",\"Rent\":\"Price\"})"
   ]
  },
  {
   "cell_type": "code",
   "execution_count": 72,
   "metadata": {},
   "outputs": [],
   "source": [
    "df_v2 = df_v2.drop(columns=[\"Side\"])"
   ]
  },
  {
   "cell_type": "code",
   "execution_count": 73,
   "metadata": {},
   "outputs": [
    {
     "data": {
      "text/html": [
       "<div>\n",
       "<style scoped>\n",
       "    .dataframe tbody tr th:only-of-type {\n",
       "        vertical-align: middle;\n",
       "    }\n",
       "\n",
       "    .dataframe tbody tr th {\n",
       "        vertical-align: top;\n",
       "    }\n",
       "\n",
       "    .dataframe thead th {\n",
       "        text-align: right;\n",
       "    }\n",
       "</style>\n",
       "<table border=\"1\" class=\"dataframe\">\n",
       "  <thead>\n",
       "    <tr style=\"text-align: right;\">\n",
       "      <th></th>\n",
       "      <th>City</th>\n",
       "      <th>District</th>\n",
       "      <th>Neighborhood</th>\n",
       "      <th>Num_Of_Room</th>\n",
       "      <th>Area</th>\n",
       "      <th>Floor</th>\n",
       "      <th>Age</th>\n",
       "      <th>Heat_type</th>\n",
       "      <th>Apt_Floor</th>\n",
       "      <th>Credit_Eli</th>\n",
       "      <th>Items</th>\n",
       "      <th>Num_of_Bath</th>\n",
       "      <th>Usage</th>\n",
       "      <th>Price</th>\n",
       "    </tr>\n",
       "  </thead>\n",
       "  <tbody>\n",
       "    <tr>\n",
       "      <th>0</th>\n",
       "      <td>Ankara</td>\n",
       "      <td>Gölbaşı</td>\n",
       "      <td>Hacılar</td>\n",
       "      <td>7 + 2</td>\n",
       "      <td>550 m2</td>\n",
       "      <td>Bahçe Katı</td>\n",
       "      <td>4 Yaşında</td>\n",
       "      <td>Kombi</td>\n",
       "      <td>3 Katlı</td>\n",
       "      <td>Uygun</td>\n",
       "      <td>Eşyalı Değil</td>\n",
       "      <td>6.0</td>\n",
       "      <td>Boş</td>\n",
       "      <td>17.700.000 TL</td>\n",
       "    </tr>\n",
       "    <tr>\n",
       "      <th>4</th>\n",
       "      <td>Ankara</td>\n",
       "      <td>Keçiören</td>\n",
       "      <td>Etlik</td>\n",
       "      <td>3 + 1</td>\n",
       "      <td>145 m2</td>\n",
       "      <td>2. Kat</td>\n",
       "      <td>16 Yaşında</td>\n",
       "      <td>Kombi</td>\n",
       "      <td>4 Katlı</td>\n",
       "      <td>Uygun</td>\n",
       "      <td>Eşyalı Değil</td>\n",
       "      <td>2.0</td>\n",
       "      <td>Boş</td>\n",
       "      <td>2.790.000 TL</td>\n",
       "    </tr>\n",
       "    <tr>\n",
       "      <th>6</th>\n",
       "      <td>Ankara</td>\n",
       "      <td>Çankaya</td>\n",
       "      <td>Birlik</td>\n",
       "      <td>6 + 2</td>\n",
       "      <td>340 m2</td>\n",
       "      <td>4. Kat</td>\n",
       "      <td>18 Yaşında</td>\n",
       "      <td>Kombi</td>\n",
       "      <td>4 Katlı</td>\n",
       "      <td>Uygun</td>\n",
       "      <td>Eşyalı Değil</td>\n",
       "      <td>3.0</td>\n",
       "      <td>Boş</td>\n",
       "      <td>4.450.000 TL</td>\n",
       "    </tr>\n",
       "    <tr>\n",
       "      <th>8</th>\n",
       "      <td>Ankara</td>\n",
       "      <td>Keçiören</td>\n",
       "      <td>Ovacık</td>\n",
       "      <td>4 + 1</td>\n",
       "      <td>215 m2</td>\n",
       "      <td>2. Kat</td>\n",
       "      <td>Sıfır Bina</td>\n",
       "      <td>Merkezi (Pay Ölçer)</td>\n",
       "      <td>13 Katlı</td>\n",
       "      <td>Uygun</td>\n",
       "      <td>Eşyalı Değil</td>\n",
       "      <td>2.0</td>\n",
       "      <td>Boş</td>\n",
       "      <td>4.350.000 TL</td>\n",
       "    </tr>\n",
       "    <tr>\n",
       "      <th>9</th>\n",
       "      <td>Ankara</td>\n",
       "      <td>Keçiören</td>\n",
       "      <td>Etlik</td>\n",
       "      <td>3 + 1</td>\n",
       "      <td>110 m2</td>\n",
       "      <td>Kot 2</td>\n",
       "      <td>25 Yaşında</td>\n",
       "      <td>Kombi</td>\n",
       "      <td>3 Katlı</td>\n",
       "      <td>Uygun</td>\n",
       "      <td>Eşyalı Değil</td>\n",
       "      <td>1.0</td>\n",
       "      <td>Mülk Sahibi</td>\n",
       "      <td>1.249.000 TL</td>\n",
       "    </tr>\n",
       "    <tr>\n",
       "      <th>...</th>\n",
       "      <td>...</td>\n",
       "      <td>...</td>\n",
       "      <td>...</td>\n",
       "      <td>...</td>\n",
       "      <td>...</td>\n",
       "      <td>...</td>\n",
       "      <td>...</td>\n",
       "      <td>...</td>\n",
       "      <td>...</td>\n",
       "      <td>...</td>\n",
       "      <td>...</td>\n",
       "      <td>...</td>\n",
       "      <td>...</td>\n",
       "      <td>...</td>\n",
       "    </tr>\n",
       "    <tr>\n",
       "      <th>33321</th>\n",
       "      <td>Ankara</td>\n",
       "      <td>Çankaya</td>\n",
       "      <td>Maltepe</td>\n",
       "      <td>3 + 1</td>\n",
       "      <td>110 m2</td>\n",
       "      <td>2. Kat</td>\n",
       "      <td>36 Yaşında</td>\n",
       "      <td>Yerden Isıtma</td>\n",
       "      <td>4 Katlı</td>\n",
       "      <td>Uygun</td>\n",
       "      <td>Eşyalı Değil</td>\n",
       "      <td>1.0</td>\n",
       "      <td>Kiracılı</td>\n",
       "      <td>3.250.000 TL</td>\n",
       "    </tr>\n",
       "    <tr>\n",
       "      <th>33322</th>\n",
       "      <td>Ankara</td>\n",
       "      <td>Polatlı</td>\n",
       "      <td>Zafer</td>\n",
       "      <td>6 + 1</td>\n",
       "      <td>340 m2</td>\n",
       "      <td>En Üst Kat</td>\n",
       "      <td>11 Yaşında</td>\n",
       "      <td>Kombi</td>\n",
       "      <td>4 Katlı</td>\n",
       "      <td>Uygun</td>\n",
       "      <td>Eşyalı Değil</td>\n",
       "      <td>2.0</td>\n",
       "      <td>Mülk Sahibi</td>\n",
       "      <td>1.395.000 TL</td>\n",
       "    </tr>\n",
       "    <tr>\n",
       "      <th>33323</th>\n",
       "      <td>Ankara</td>\n",
       "      <td>Çankaya</td>\n",
       "      <td>Yıldızevler</td>\n",
       "      <td>3 + 1</td>\n",
       "      <td>155 m2</td>\n",
       "      <td>2. Kat</td>\n",
       "      <td>23 Yaşında</td>\n",
       "      <td>Merkezi</td>\n",
       "      <td>4 Katlı</td>\n",
       "      <td>Uygun</td>\n",
       "      <td>Eşyalı Değil</td>\n",
       "      <td>2.0</td>\n",
       "      <td>Boş</td>\n",
       "      <td>4.750.000 TL</td>\n",
       "    </tr>\n",
       "    <tr>\n",
       "      <th>33324</th>\n",
       "      <td>Ankara</td>\n",
       "      <td>Keçiören</td>\n",
       "      <td>Bağlarbaşı</td>\n",
       "      <td>4 + 1</td>\n",
       "      <td>215 m2</td>\n",
       "      <td>1. Kat</td>\n",
       "      <td>8 Yaşında</td>\n",
       "      <td>Kombi</td>\n",
       "      <td>10 Katlı</td>\n",
       "      <td>Uygun</td>\n",
       "      <td>Eşyalı Değil</td>\n",
       "      <td>2.0</td>\n",
       "      <td>Boş</td>\n",
       "      <td>4.250.000 TL</td>\n",
       "    </tr>\n",
       "    <tr>\n",
       "      <th>33325</th>\n",
       "      <td>Ankara</td>\n",
       "      <td>Çankaya</td>\n",
       "      <td>100. Yıl</td>\n",
       "      <td>3 + 1</td>\n",
       "      <td>125 m2</td>\n",
       "      <td>Yüksek Giriş</td>\n",
       "      <td>40 Yaşında</td>\n",
       "      <td>Merkezi</td>\n",
       "      <td>3 Katlı</td>\n",
       "      <td>Uygun</td>\n",
       "      <td>Eşyalı Değil</td>\n",
       "      <td>1.0</td>\n",
       "      <td>Kiracılı</td>\n",
       "      <td>2.250.000 TL</td>\n",
       "    </tr>\n",
       "  </tbody>\n",
       "</table>\n",
       "<p>25248 rows × 14 columns</p>\n",
       "</div>"
      ],
      "text/plain": [
       "         City  District Neighborhood Num_Of_Room    Area         Floor  \\\n",
       "0      Ankara   Gölbaşı      Hacılar       7 + 2  550 m2    Bahçe Katı   \n",
       "4      Ankara  Keçiören        Etlik       3 + 1  145 m2        2. Kat   \n",
       "6      Ankara   Çankaya       Birlik       6 + 2  340 m2        4. Kat   \n",
       "8      Ankara  Keçiören       Ovacık       4 + 1  215 m2        2. Kat   \n",
       "9      Ankara  Keçiören        Etlik       3 + 1  110 m2         Kot 2   \n",
       "...       ...       ...          ...         ...     ...           ...   \n",
       "33321  Ankara   Çankaya      Maltepe       3 + 1  110 m2        2. Kat   \n",
       "33322  Ankara   Polatlı        Zafer       6 + 1  340 m2    En Üst Kat   \n",
       "33323  Ankara   Çankaya  Yıldızevler       3 + 1  155 m2        2. Kat   \n",
       "33324  Ankara  Keçiören   Bağlarbaşı       4 + 1  215 m2        1. Kat   \n",
       "33325  Ankara   Çankaya     100. Yıl       3 + 1  125 m2  Yüksek Giriş   \n",
       "\n",
       "              Age            Heat_type Apt_Floor Credit_Eli         Items  \\\n",
       "0       4 Yaşında                Kombi   3 Katlı      Uygun  Eşyalı Değil   \n",
       "4      16 Yaşında                Kombi   4 Katlı      Uygun  Eşyalı Değil   \n",
       "6      18 Yaşında                Kombi   4 Katlı      Uygun  Eşyalı Değil   \n",
       "8      Sıfır Bina  Merkezi (Pay Ölçer)  13 Katlı      Uygun  Eşyalı Değil   \n",
       "9      25 Yaşında                Kombi   3 Katlı      Uygun  Eşyalı Değil   \n",
       "...           ...                  ...       ...        ...           ...   \n",
       "33321  36 Yaşında        Yerden Isıtma   4 Katlı      Uygun  Eşyalı Değil   \n",
       "33322  11 Yaşında                Kombi   4 Katlı      Uygun  Eşyalı Değil   \n",
       "33323  23 Yaşında              Merkezi   4 Katlı      Uygun  Eşyalı Değil   \n",
       "33324   8 Yaşında                Kombi  10 Katlı      Uygun  Eşyalı Değil   \n",
       "33325  40 Yaşında              Merkezi   3 Katlı      Uygun  Eşyalı Değil   \n",
       "\n",
       "       Num_of_Bath        Usage          Price  \n",
       "0              6.0          Boş  17.700.000 TL  \n",
       "4              2.0          Boş   2.790.000 TL  \n",
       "6              3.0          Boş   4.450.000 TL  \n",
       "8              2.0          Boş   4.350.000 TL  \n",
       "9              1.0  Mülk Sahibi   1.249.000 TL  \n",
       "...            ...          ...            ...  \n",
       "33321          1.0     Kiracılı   3.250.000 TL  \n",
       "33322          2.0  Mülk Sahibi   1.395.000 TL  \n",
       "33323          2.0          Boş   4.750.000 TL  \n",
       "33324          2.0          Boş   4.250.000 TL  \n",
       "33325          1.0     Kiracılı   2.250.000 TL  \n",
       "\n",
       "[25248 rows x 14 columns]"
      ]
     },
     "execution_count": 73,
     "metadata": {},
     "output_type": "execute_result"
    }
   ],
   "source": [
    "df_v2"
   ]
  },
  {
   "cell_type": "code",
   "execution_count": 74,
   "metadata": {},
   "outputs": [],
   "source": [
    "value_counts = df_v2['Floor'].value_counts()"
   ]
  },
  {
   "cell_type": "code",
   "execution_count": 75,
   "metadata": {},
   "outputs": [
    {
     "name": "stdout",
     "output_type": "stream",
     "text": [
      "3. Kat: 3904\n",
      "1. Kat: 3778\n",
      "2. Kat: 3570\n",
      "Yüksek Giriş: 2040\n",
      "4. Kat: 1633\n",
      "Ara Kat: 1464\n",
      "En Üst Kat: 1141\n",
      "Kot 1: 1008\n",
      "Giriş Katı: 966\n",
      "5. Kat: 748\n",
      "Bahçe Katı: 628\n",
      "6. Kat: 598\n",
      "7. Kat: 408\n",
      "8. Kat: 392\n",
      "Kot 2: 390\n",
      "9. Kat: 351\n",
      "10. Kat: 330\n",
      "11. Kat: 245\n",
      "21 ve üzeri: 236\n",
      "12. Kat: 222\n",
      "Teras Katı: 211\n",
      "13. Kat: 152\n",
      "14. Kat: 140\n",
      "Zemin: 111\n",
      "Çatı Katı: 109\n",
      "15. Kat: 97\n",
      "Kot 3: 85\n",
      "16. Kat: 68\n",
      "17. Kat: 53\n",
      "Villa Katı: 35\n",
      "20. Kat: 34\n",
      "18. Kat: 29\n",
      "19. Kat: 27\n",
      "Bodrum: 22\n",
      "Bodrum ve Zemin: 11\n",
      "Yarı Bodrum: 10\n",
      "Asma Kat: 2\n"
     ]
    }
   ],
   "source": [
    "for value, count in value_counts.items():\n",
    " print(f\"{value}: {count}\")\n"
   ]
  },
  {
   "cell_type": "code",
   "execution_count": 76,
   "metadata": {},
   "outputs": [],
   "source": [
    "first_floor = [\"Zemin\", \"Giriş Katı\", \"Bahçe Katı\", \"Yüksek Giriş\"]\n",
    "basement = [\"Kot 1\", \"Kot 2\", \"Kot 3\", \"Bodrum\", \"Bodrum ve Zemin\", \"Yarı Bodrum\"]\n",
    "top_floor = [\"En Üst Kat\", \"Teras Katı\", \"Çatı Katı\"]"
   ]
  },
  {
   "cell_type": "code",
   "execution_count": 77,
   "metadata": {},
   "outputs": [
    {
     "name": "stderr",
     "output_type": "stream",
     "text": [
      "C:\\Users\\PC\\AppData\\Local\\Temp\\ipykernel_19068\\1174050341.py:12: SettingWithCopyWarning: \n",
      "A value is trying to be set on a copy of a slice from a DataFrame.\n",
      "Try using .loc[row_indexer,col_indexer] = value instead\n",
      "\n",
      "See the caveats in the documentation: https://pandas.pydata.org/pandas-docs/stable/user_guide/indexing.html#returning-a-view-versus-a-copy\n",
      "  df_v2['Floor'] = df_v2['Floor'].replace(interstage, 'interstage')\n"
     ]
    }
   ],
   "source": [
    "# Replace the values in the dataframe\n",
    "df_v2['Floor'] = df_v2['Floor'].replace(first_floor, 'first floor')\n",
    "df_v2['Floor'] = df_v2['Floor'].replace(basement, 'basement')\n",
    "df_v2['Floor'] = df_v2['Floor'].replace(top_floor, 'top floor')\n",
    "\n",
    "# Drop rows with \"Asma Kat\" as a value\n",
    "df_v2 = df_v2[df_v2['Floor'] != \"Asma Kat\"]\n",
    "\n",
    "# Assign the rest to \"interstage\"\n",
    "unique_values = df_v2['Floor'].unique()\n",
    "interstage = [value for value in unique_values if value not in ['first floor', 'basement', 'top floor']]\n",
    "df_v2['Floor'] = df_v2['Floor'].replace(interstage, 'interstage')\n"
   ]
  },
  {
   "cell_type": "code",
   "execution_count": 78,
   "metadata": {},
   "outputs": [
    {
     "name": "stdout",
     "output_type": "stream",
     "text": [
      "interstage: 18514\n",
      "first floor: 3745\n",
      "basement: 1526\n",
      "top floor: 1461\n"
     ]
    }
   ],
   "source": [
    "value_counts = df_v2['Floor'].value_counts()\n",
    "for value, count in value_counts.items():\n",
    "    print(f\"{value}: {count}\")\n"
   ]
  },
  {
   "cell_type": "code",
   "execution_count": 79,
   "metadata": {},
   "outputs": [
    {
     "name": "stderr",
     "output_type": "stream",
     "text": [
      "C:\\Users\\PC\\AppData\\Local\\Temp\\ipykernel_19068\\3636994891.py:1: SettingWithCopyWarning: \n",
      "A value is trying to be set on a copy of a slice from a DataFrame.\n",
      "Try using .loc[row_indexer,col_indexer] = value instead\n",
      "\n",
      "See the caveats in the documentation: https://pandas.pydata.org/pandas-docs/stable/user_guide/indexing.html#returning-a-view-versus-a-copy\n",
      "  df_v2['Age'] = df_v2['Age'].str.extract('(\\d+)').astype(float)\n"
     ]
    }
   ],
   "source": [
    "df_v2['Age'] = df_v2['Age'].str.extract('(\\d+)').astype(float)"
   ]
  },
  {
   "cell_type": "code",
   "execution_count": 80,
   "metadata": {},
   "outputs": [
    {
     "name": "stdout",
     "output_type": "stream",
     "text": [
      "Kombi: 19447\n",
      "Merkezi (Pay Ölçer): 3176\n",
      "Merkezi: 2056\n",
      "Yerden Isıtma: 357\n",
      "Kat Kaloriferi: 70\n",
      "Soba: 66\n",
      "Doğalgaz Sobası: 24\n",
      "Klima: 18\n",
      "Isıtma Yok: 12\n",
      "Belirtilmemiş: 8\n",
      "Güneş Enerjisi: 4\n",
      "Fancoil Ünitesi: 4\n",
      "Jeotermal Isıtma: 3\n",
      "VRV: 1\n"
     ]
    }
   ],
   "source": [
    "value_counts = df_v2['Heat_type'].value_counts()\n",
    "\n",
    "# Print each unique value and its count\n",
    "for value, count in value_counts.items():\n",
    "    print(f\"{value}: {count}\")\n"
   ]
  },
  {
   "cell_type": "code",
   "execution_count": 81,
   "metadata": {},
   "outputs": [],
   "source": [
    "value_counts = df_v2['Heat_type'].value_counts()\n",
    "last_six_values = value_counts[-6:].index.tolist()\n",
    "\n",
    "# Remove rows with the last 6 unique 'Heat_type' values\n",
    "df_v2 = df_v2[~df_v2['Heat_type'].isin(last_six_values)]\n",
    "value_counts = df_v2['Heat_type'].value_counts()"
   ]
  },
  {
   "cell_type": "code",
   "execution_count": 82,
   "metadata": {},
   "outputs": [
    {
     "name": "stdout",
     "output_type": "stream",
     "text": [
      "Kombi: 19447\n",
      "Merkezi (Pay Ölçer): 3176\n",
      "Merkezi: 2056\n",
      "Yerden Isıtma: 357\n",
      "Kat Kaloriferi: 70\n",
      "Soba: 66\n",
      "Doğalgaz Sobası: 24\n",
      "Klima: 18\n"
     ]
    }
   ],
   "source": [
    "for value, count in value_counts.items():\n",
    "    print(f\"{value}: {count}\")\n"
   ]
  },
  {
   "cell_type": "code",
   "execution_count": 83,
   "metadata": {},
   "outputs": [],
   "source": [
    "value_counts = df_v2['Heat_type'].value_counts()\n",
    "last_5_values = value_counts[-5:].index.tolist()\n",
    "\n",
    "df_v2 = df_v2[~df_v2['Heat_type'].isin(last_5_values)]\n",
    "value_counts = df_v2['District'].value_counts()"
   ]
  },
  {
   "cell_type": "code",
   "execution_count": 84,
   "metadata": {},
   "outputs": [
    {
     "name": "stdout",
     "output_type": "stream",
     "text": [
      "Çankaya: 6486\n",
      "Keçiören: 4499\n",
      "Mamak: 3846\n",
      "Etimesgut: 2377\n",
      "Sincan: 2113\n",
      "Yenimahalle: 1930\n",
      "Altındağ: 1247\n",
      "Pursaklar: 797\n",
      "Gölbaşı: 721\n",
      "Polatlı: 443\n",
      "Çubuk: 121\n",
      "Akyurt: 38\n",
      "Kahramankazan: 16\n",
      "Kızılcahamam: 13\n",
      "Elmadağ: 12\n",
      "Beypazarı: 9\n",
      "Şereflikoçhisar: 4\n",
      "Bala: 2\n",
      "Ayaş: 2\n",
      "Kalecik: 1\n",
      "Haymana: 1\n",
      "Güdül: 1\n"
     ]
    }
   ],
   "source": [
    "for value, count in value_counts.items():\n",
    "    print(f\"{value}: {count}\")\n",
    "\n"
   ]
  },
  {
   "cell_type": "code",
   "execution_count": 107,
   "metadata": {},
   "outputs": [
    {
     "name": "stdout",
     "output_type": "stream",
     "text": [
      "{'Etlik': 513, 'Ayvalı': 330, 'Atapark': 238, 'Harbiye': 225, 'Durali Alıç': 225, 'Merkez': 222, 'İlkadım': 218, 'Akşemsettin': 210, 'General Zeki Doğan': 202, 'Mareşal Çakmak': 197, 'Karapürçek': 190, 'İstasyon': 188, 'Yayla': 184, 'Naci Çakır': 183, 'Aşağı Eğlence': 178, 'Şahintepe': 173, 'Keklik Pınarı': 172, 'Mimar Sinan': 171, 'İncirli': 171, 'Cengizhan': 168, 'Yunus Emre': 164, 'Mutlu': 162, 'Emek': 161, 'Birlik': 161, 'Aydınlıkevler': 161, 'Fatih': 158, 'Turgut Özal': 156, 'Plevne': 150, 'Yükseltepe': 150, 'Ata': 149, 'Huzur': 148, 'Karakaya': 147, 'Osman Temiz': 147, 'Pınarbaşı': 145, 'Fahri Korutürk': 145, 'Bağlıca': 142, 'Akpınar': 141, 'Kutlu': 140, 'Esertepe': 140, 'Kırkkonaklar': 137, 'Ovacık': 134, 'Malazgirt': 133, 'Topçu': 130, 'Selçuklu': 129, 'Tandoğan': 129, 'Yukarı Bahçelievler': 126, 'İlkbahar': 125, 'Sokullu Mehmet Paşa': 124, 'Piyade': 120, 'Mustafa Kemal': 118, 'Aydınlar': 116, 'Bahçelievler': 114, 'Kanuni': 114, 'Ayrancı': 111, 'Mürsel Uluç': 110, 'Tuzluçayır': 109, 'Sancaktepe': 109, 'Güneşevler': 106, 'Alsancak': 104, 'Cevizlidere': 101, 'Ahi Mesut': 101, 'Alacaatlı': 99, 'Bahçelerüstü': 99, 'Şehit Kubilay': 99, 'Şehit Osman Avcı': 97, 'Kuşcağız': 95, 'Aşık Veysel': 94, 'Ege': 94, 'Pamuklar': 94, 'Elvan': 92, 'Türközü': 90, 'Yeni Bağlıca': 90, 'Yeni Batı': 89, 'Şafaktepe': 86, 'Aşağı Öveçler': 85, 'Andiçen': 84, 'Büyükesat': 83, 'Çağlayan': 83, 'Şehit Cengiz Karaca': 83, 'Tepebaşı': 83, 'Atatürk': 81, 'Şehit Cevdet Özdemir': 80, 'Karapınar': 80, 'Örnek': 80, 'Süvari': 79, 'Aziziye': 78, 'Uyanış': 78, 'Hürel': 77, 'Ufuktepe': 75, 'Bademlik': 75, 'Atakent': 73, 'Aşıkpaşa': 73, 'Beşikkaya': 72, 'Demirlibahçe': 72, 'Gültepe': 72, 'Kentkoop': 72, 'Maltepe': 71, 'Kavaklıdere': 70, 'Karşıyaka': 70, 'Gazi': 70, 'Cumhuriyet': 70, 'Demetgül': 69, 'Bağlarbaşı': 69, 'Seyranbağları': 68, 'Mehtap': 68, 'Öveçler': 68, 'Peyami Safa': 67, 'Başak': 66, 'Kardelen': 65, 'Oran': 65, '19 Mayıs': 62, 'Şirintepe': 61, 'Osmangazi': 61, '30 Ağustos': 60, 'Abidinpaşa': 60, 'Hilal': 60, 'Gülveren': 59, 'Şenlik': 58, 'Yeşilova': 58, 'Tunahan': 58, 'Demetevler': 57, 'Hisar': 56, 'Gökkuşağı': 56, 'Yukarı Dikmen': 55, 'Kazım Orbay': 55, 'Eryaman': 55, 'Şeyh Şamil': 54, 'Misket': 54, 'Şehitlik': 53, 'Yaşamkent': 53, 'İşçi Blokları': 51, 'Menderes': 51, 'Göksu': 50, 'Yıldıztepe': 49, 'Fevzi Çakmak': 48, 'Ergazi': 48, 'Altıağaç': 48, 'Harman': 48, 'Sancak': 48, 'Oğuzlar': 48, 'İncek': 48, 'Bahçeleriçi': 48, 'Ertuğrulgazi': 48, 'Gaziosmanpaşa': 46, 'Kartaltepe': 46, 'Yıldızevler': 45, 'Beytepe': 45, 'Çiçekli': 45, 'Saimekadın': 45, 'Metin Oktay': 44, 'Demetlale': 44, 'Çiğdemtepe': 43, 'Mutlukent': 43, 'Balkiraz': 42, 'Akdere': 42, 'Kültür': 42, 'Ayyıldız': 42, 'Atayurt': 41, 'Adnan Menderes': 41, 'Turkuaz': 41, 'Feridun Çelik': 41, 'Ekin': 40, 'Devlet': 40, 'Battalgazi': 40, 'Barbaros': 40, 'Başpınar': 39, 'Serhat': 39, 'Umut': 39, 'Kızılcaşar': 39, 'Kafkas': 39, 'Varlık': 38, 'Kazım Karabekir': 38, 'Çiğdem': 37, 'Güvenevler': 37, 'Güzeltepe': 36, 'Zafer': 36, 'Çarşı': 36, 'Mehmet Akif Ersoy': 36, 'Boğaziçi': 36, 'Basınevleri': 35, 'Çankaya': 35, 'Karaağaç': 35, 'Remzi Oğuz Arık': 35, '100. Yıl': 35, 'Batı Sitesi': 34, 'Tınaztepe': 34, 'Kavacık Subayevleri': 34, 'Fakülteler': 33, 'Anıttepe': 33, 'Saray Fatih': 33, 'Dodurga': 33, 'Yeşilevler': 33, 'Bayraktar': 33, 'Osmanlı': 33, 'Metin Akkuş': 33, 'Küçük Kayaş': 32, 'Ahi Evran': 32, 'Güzelkent': 32, 'Altay': 32, 'Saraycık': 31, 'Hacılar': 31, 'Baraj': 30, 'İlkyerleşim': 30, 'Yavuz Selim': 30, 'Köşk': 30, 'Şentepe': 30, 'Hacettepe': 29, 'Şeker': 29, 'Yakacık': 29, 'Konutkent': 28, 'Aktepe': 28, 'Yukarı Öveçler': 28, 'İnönü': 27, 'Çamlıtepe': 27, 'Güçlükaya': 27, 'Bağcılar': 27, 'Ümit': 27, 'Esentepe': 27, 'Tepealtı': 27, 'Diriliş': 26, 'İleri': 26, 'Ön Cebeci': 26, 'Taşpınar': 26, 'Yeşilbayır': 26, 'Işınlar': 25, 'Arka Topraklık': 25, 'Prof. Dr. Ahmet Taner Kışlalı': 25, 'Etiler': 25, 'Kızılırmak': 24, 'Doğantepe': 24, 'Kazım Özalp': 23, 'Koru': 23, 'Saray Cumhuriyet': 23, 'Avcılar': 22, 'Fidanlık': 22, 'Esatoğlu': 22, 'Zirvekent': 22, 'Bademlidere': 22, 'Cebeci': 22, 'Emniyet': 22, 'Yeşiltepe': 21, 'Çayyolu': 21, 'Çukurambar': 21, 'Yeni Bayındır': 20, 'Nasuh Akar': 20, 'Emrah': 20, 'Murat': 20, 'Kurtuluş': 20, 'İncesu': 20, 'İlker': 20, 'Şahap Gürler': 20, 'Ergenekon': 19, 'Tevfik İleri': 19, 'Küçükesat': 19, 'Özevler': 19, 'Ragıp Tüzün': 19, 'Uğur Mumcu': 18, 'Yeniçağ': 18, 'Kayalar': 18, 'Yıldırım Beyazıt': 18, 'Hüseyingazi': 18, 'Mebusevleri': 17, 'Eymir': 17, 'Kalaba': 17, 'Karargahtepe': 17, 'Seğmenler': 17, 'Ulubey': 17, 'Derbent': 17, '29 Ekim': 17, 'Muhsin Ertuğrul': 16, 'İstiklal': 16, 'Yapracık': 16, 'Alcı': 16, 'Susuz': 16, 'Şafak': 16, 'Korkutreis': 15, 'Kızılay': 15, 'Göktürk': 15, 'Balgat': 15, 'Çaldıran': 15, 'Zafertepe': 15, 'Gayret': 14, 'Burç': 14, 'Kamil Ocak': 14, 'Kocatepe': 14, 'Gökçek': 14, 'Altınevler': 14, 'Ulubatlı Hasan': 13, 'Şefkat': 12, 'Güventepe': 12, 'Beştepe': 12, 'Yukarıyurtçu': 12, 'Doğuş': 12, 'Yavuzselim': 11, 'Sağlık': 11, 'Erzurum': 11, 'Eti': 11, 'Üreğil': 11, 'Yukarı Yahyalar': 11, 'Dumlupınar': 10, 'Gazi Osmanpaşa': 10, 'Güzelyurt': 10, 'Barış': 10, 'Fatih Sultan': 10, 'Beyazıt': 10, 'Hürriyet': 10, 'Zübeyde Hanım': 10, 'Hasanoğlan Bahçelievler': 9, 'Hasköy': 9, '23 Nisan': 9, 'Bostancık': 9, 'Mehmet Akif': 9, 'Anadolu': 8, 'Törekent': 8, 'Kıbrısköy': 8, 'Yücetepe': 8, 'Topraklık': 8, 'Ostim OSB': 8, 'Şehit Cengiz Topel': 8, 'Kuzey Yıldızı': 8, 'Güzelyaka': 8, 'Şenyuva': 8, 'Yuvaköy': 7, 'Akçay': 7, 'Kaletepe': 7, 'Esenboğa Merkez': 7, 'Lalahan': 6, 'Yıldırım': 6, 'Karacaören': 6, 'Yeni': 6, 'Çamlıca': 5, 'Kusunlar': 5, 'Söğütözü': 5, 'Erler': 5, 'Üniversiteler': 5, 'Ehlibeyt': 5, 'Üçpınar': 5, 'Barıştepe': 5, 'Ahlatlıbel': 4, 'Yeşilkent': 4, '25 Mart': 4, 'Atıfbey': 4, 'Aşağı Yahyalar': 4, 'Ostim': 4, 'Karacakaya': 4, 'Kale': 4, 'Önder': 4, 'Meşrutiyet': 4, 'Tulumtaş': 4, 'Hacıhasan': 3, 'Boztepe': 3, 'Dutluk': 3, 'Gümüşdere': 3, 'Gökçehüyük': 3, 'Araplar': 3, 'Büğdüz': 2, 'Ballıkpınar': 2, 'Satıkadın': 2, 'İsmetpaşa': 2, 'Altınova': 2, 'Dostlar': 2, 'Saray Osmangazi': 2, 'Kayı': 2, 'Aşağıyurtçu': 2, 'Alcı OSB': 2, 'Yenihisar': 2, 'Kayaş': 1, 'Aşağıçavundur': 1, 'Ayvaşık': 1, 'Başağaç': 1, 'Solfasol': 1, 'Yeniçimşit': 1, 'İvedik OSB': 1, 'Örencik': 1, 'Yenice': 1, 'Bahçekapı': 1, 'Mevlana': 1, 'Saracalar': 1, 'Tepecik': 1, 'Oyaca Yeşilçam': 1, 'Hacı Bayram': 1, 'Ferahfaki': 1, 'Gümüşpala': 1, 'Çağa': 1, 'Halitcevriaslangil': 1, 'Çoğlu': 1, 'İvedikköy': 1, 'Ilıca': 1, 'Bağlum Güzelyurt': 1, 'Emirler': 1, 'Beynam': 1, 'Hacıkara': 1}\n"
     ]
    }
   ],
   "source": [
    "value_counts = df_v2['Neighborhood'].value_counts()\n",
    "neighborhood_counts = {}\n",
    "\n",
    "for value, count in value_counts.items():\n",
    "    neighborhood_counts[value] = count\n",
    "\n",
    "print(neighborhood_counts)"
   ]
  },
  {
   "cell_type": "code",
   "execution_count": null,
   "metadata": {},
   "outputs": [],
   "source": [
    "#value_counts = df_v2['Neighborhood'].value_counts()\n",
    "#last_380_values = value_counts[-150:].index.tolist()\n",
    "\n",
    "#df_v2 = df_v2[~df_v2['Neighborhood'].isin(last_380_values)]"
   ]
  },
  {
   "cell_type": "code",
   "execution_count": 86,
   "metadata": {},
   "outputs": [],
   "source": [
    "df_v2['Apt_Floor'] = df_v2['Apt_Floor'].str.extract('(\\d+)').astype(float)"
   ]
  },
  {
   "cell_type": "code",
   "execution_count": 87,
   "metadata": {},
   "outputs": [
    {
     "name": "stdout",
     "output_type": "stream",
     "text": [
      "Uygun: 23550\n",
      "Uygun değil: 921\n",
      "Bilinmiyor: 208\n"
     ]
    }
   ],
   "source": [
    "value_counts = df_v2['Credit_Eli'].value_counts()\n",
    "\n",
    "# Print each unique value and its count\n",
    "for value, count in value_counts.items():\n",
    "    print(f\"{value}: {count}\")"
   ]
  },
  {
   "cell_type": "code",
   "execution_count": 88,
   "metadata": {},
   "outputs": [],
   "source": [
    "value_counts = df_v2['Credit_Eli'].value_counts()\n",
    "\n",
    "# Get a list of the last 6 unique values\n",
    "last_values = value_counts[-1:].index.tolist()\n",
    "\n",
    "# Remove rows with the last 6 unique 'Heat_type' values\n",
    "df_v2 = df_v2[~df_v2['Credit_Eli'].isin(last_values)]\n",
    "value_counts = df_v2['Credit_Eli'].value_counts()"
   ]
  },
  {
   "cell_type": "code",
   "execution_count": 89,
   "metadata": {},
   "outputs": [
    {
     "name": "stdout",
     "output_type": "stream",
     "text": [
      "Uygun: 23550\n",
      "Uygun değil: 921\n"
     ]
    }
   ],
   "source": [
    "for value, count in value_counts.items():\n",
    "    print(f\"{value}: {count}\")\n",
    "value_counts = df_v2['Items'].value_counts()\n"
   ]
  },
  {
   "cell_type": "code",
   "execution_count": 90,
   "metadata": {},
   "outputs": [
    {
     "name": "stdout",
     "output_type": "stream",
     "text": [
      "Eşyalı Değil: 23330\n",
      "Eşyalı: 1141\n"
     ]
    }
   ],
   "source": [
    "for value, count in value_counts.items():\n",
    "    print(f\"{value}: {count}\")\n",
    "df_v2['Items'] = df_v2['Items'].replace({'Eşyalı Değil': 0, 'Eşyalı': 1})\n",
    "\n",
    "df_v2[\"Credit_Eli\"] = df_v2[\"Credit_Eli\"].replace({\"Uygun\":1,\"Uygun değil\":0}) "
   ]
  },
  {
   "cell_type": "code",
   "execution_count": 91,
   "metadata": {},
   "outputs": [
    {
     "name": "stdout",
     "output_type": "stream",
     "text": [
      "Boş: 11658\n",
      "Mülk Sahibi: 6201\n",
      "Kiracılı: 6183\n",
      "Belirtilmemiş: 429\n"
     ]
    }
   ],
   "source": [
    "value_counts = df_v2['Usage'].value_counts()\n",
    "\n",
    "# Print each unique value and its count\n",
    "for value, count in value_counts.items():\n",
    "    print(f\"{value}: {count}\")"
   ]
  },
  {
   "cell_type": "code",
   "execution_count": 92,
   "metadata": {},
   "outputs": [],
   "source": [
    "value_counts = df_v2['Usage'].value_counts()\n",
    "\n",
    "# Get a list of the last 6 unique values\n",
    "last_value = value_counts[-1:].index.tolist()\n",
    "\n",
    "# Remove rows with the last 6 unique 'Heat_type' values\n",
    "df_v2 = df_v2[~df_v2['Usage'].isin(last_value)]\n"
   ]
  },
  {
   "cell_type": "code",
   "execution_count": 93,
   "metadata": {},
   "outputs": [
    {
     "data": {
      "text/plain": [
       "City               0\n",
       "District           0\n",
       "Neighborhood       0\n",
       "Num_Of_Room        0\n",
       "Area               0\n",
       "Floor              0\n",
       "Age             3982\n",
       "Heat_type          0\n",
       "Apt_Floor          0\n",
       "Credit_Eli         0\n",
       "Items              0\n",
       "Num_of_Bath        0\n",
       "Usage              0\n",
       "Price              0\n",
       "dtype: int64"
      ]
     },
     "execution_count": 93,
     "metadata": {},
     "output_type": "execute_result"
    }
   ],
   "source": [
    "df_v2.isna().sum()"
   ]
  },
  {
   "cell_type": "code",
   "execution_count": 94,
   "metadata": {},
   "outputs": [],
   "source": [
    "df_v2 = df_v2.dropna()\n",
    "\n"
   ]
  },
  {
   "cell_type": "code",
   "execution_count": 95,
   "metadata": {},
   "outputs": [
    {
     "data": {
      "text/plain": [
       "City             object\n",
       "District         object\n",
       "Neighborhood     object\n",
       "Num_Of_Room      object\n",
       "Area             object\n",
       "Floor            object\n",
       "Age             float64\n",
       "Heat_type        object\n",
       "Apt_Floor       float64\n",
       "Credit_Eli        int64\n",
       "Items             int64\n",
       "Num_of_Bath     float64\n",
       "Usage            object\n",
       "Price            object\n",
       "dtype: object"
      ]
     },
     "execution_count": 95,
     "metadata": {},
     "output_type": "execute_result"
    }
   ],
   "source": [
    "df_v2.dtypes"
   ]
  },
  {
   "cell_type": "code",
   "execution_count": 96,
   "metadata": {},
   "outputs": [
    {
     "name": "stderr",
     "output_type": "stream",
     "text": [
      "C:\\Users\\PC\\AppData\\Local\\Temp\\ipykernel_19068\\3187241926.py:1: FutureWarning: The default value of regex will change from True to False in a future version. In addition, single character regular expressions will *not* be treated as literal strings when regex=True.\n",
      "  df_v2['Price'] = df_v2['Price'].str.replace('.', '').str.replace(' TL', '')\n"
     ]
    },
    {
     "data": {
      "text/plain": [
       "District         object\n",
       "Neighborhood     object\n",
       "Num_Of_Room       int64\n",
       "Area            float64\n",
       "Floor            object\n",
       "Age             float64\n",
       "Heat_type        object\n",
       "Apt_Floor       float64\n",
       "Credit_Eli        int64\n",
       "Items             int64\n",
       "Num_of_Bath     float64\n",
       "Usage            object\n",
       "Price           float64\n",
       "dtype: object"
      ]
     },
     "execution_count": 96,
     "metadata": {},
     "output_type": "execute_result"
    }
   ],
   "source": [
    "df_v2['Price'] = df_v2['Price'].str.replace('.', '').str.replace(' TL', '')\n",
    "df_v2[\"Price\"] = df_v2[\"Price\"].astype(float)\n",
    "df_v2['Num_Of_Room'] = df_v2['Num_Of_Room'].apply(lambda x: int(x.split('+')[0]) + int(x.split('+')[1]))\n",
    "\n",
    "# Remove 'm2' from Area and convert to integers\n",
    "df_v2['Area'] = df_v2['Area'].str.replace(' m2', '').astype(float)\n",
    "df_v2 = df_v2.drop(columns=[\"City\"])\n",
    "df_v2.dtypes"
   ]
  },
  {
   "cell_type": "code",
   "execution_count": 97,
   "metadata": {},
   "outputs": [
    {
     "data": {
      "text/plain": [
       "District         object\n",
       "Neighborhood     object\n",
       "Num_Of_Room       int64\n",
       "Area            float64\n",
       "Floor            object\n",
       "Age             float64\n",
       "Heat_type        object\n",
       "Apt_Floor       float64\n",
       "Credit_Eli        int64\n",
       "Items             int64\n",
       "Num_of_Bath     float64\n",
       "Usage            object\n",
       "Price           float64\n",
       "dtype: object"
      ]
     },
     "execution_count": 97,
     "metadata": {},
     "output_type": "execute_result"
    }
   ],
   "source": [
    "df_v2.dtypes"
   ]
  },
  {
   "cell_type": "code",
   "execution_count": 98,
   "metadata": {},
   "outputs": [
    {
     "data": {
      "text/plain": [
       "District        0\n",
       "Neighborhood    0\n",
       "Num_Of_Room     0\n",
       "Area            0\n",
       "Floor           0\n",
       "Age             0\n",
       "Heat_type       0\n",
       "Apt_Floor       0\n",
       "Credit_Eli      0\n",
       "Items           0\n",
       "Num_of_Bath     0\n",
       "Usage           0\n",
       "Price           0\n",
       "dtype: int64"
      ]
     },
     "execution_count": 98,
     "metadata": {},
     "output_type": "execute_result"
    }
   ],
   "source": [
    "df_v2.isna().sum()"
   ]
  },
  {
   "cell_type": "code",
   "execution_count": 103,
   "metadata": {},
   "outputs": [],
   "source": [
    "categorical_columns = [\"Floor\",\"Heat_type\",\"Usage\"]  # list the categorical columns you want to convert\n",
    "df_v2 = pd.get_dummies(df_v2, columns=categorical_columns, drop_first=False)"
   ]
  },
  {
   "cell_type": "code",
   "execution_count": 104,
   "metadata": {},
   "outputs": [],
   "source": [
    "column_to_move = 'Price'\n",
    "column = df_v2.pop(column_to_move)\n",
    "df_v2.insert(len(df_v2.columns), column_to_move, column)\n",
    "\n"
   ]
  },
  {
   "cell_type": "code",
   "execution_count": 105,
   "metadata": {},
   "outputs": [],
   "source": [
    "df_v3 = df_v2.reset_index()\n",
    "df_v3 = df_v3.drop(columns=[\"index\"])"
   ]
  },
  {
   "cell_type": "code",
   "execution_count": 106,
   "metadata": {},
   "outputs": [],
   "source": [
    "df_v3.to_excel(\"house_price_Test.xlsx\")"
   ]
  }
 ],
 "metadata": {
  "kernelspec": {
   "display_name": "machine_learn",
   "language": "python",
   "name": "python3"
  },
  "language_info": {
   "codemirror_mode": {
    "name": "ipython",
    "version": 3
   },
   "file_extension": ".py",
   "mimetype": "text/x-python",
   "name": "python",
   "nbconvert_exporter": "python",
   "pygments_lexer": "ipython3",
   "version": "3.9.15"
  },
  "orig_nbformat": 4
 },
 "nbformat": 4,
 "nbformat_minor": 2
}
