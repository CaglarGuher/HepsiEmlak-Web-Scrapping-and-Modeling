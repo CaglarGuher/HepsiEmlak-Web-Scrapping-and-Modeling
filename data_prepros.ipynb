{
 "cells": [
  {
   "cell_type": "code",
   "execution_count": 65,
   "metadata": {},
   "outputs": [],
   "source": [
    "import pandas as pd"
   ]
  },
  {
   "cell_type": "code",
   "execution_count": 66,
   "metadata": {},
   "outputs": [],
   "source": [
    "import sys\n",
    "stdout = sys.stdout\n",
    "\n",
    "\n",
    "sys.stdout = stdout"
   ]
  },
  {
   "cell_type": "code",
   "execution_count": null,
   "metadata": {},
   "outputs": [],
   "source": [
    "df = pd.read_csv(\"total_house_prices.csv\",index_col=0)"
   ]
  },
  {
   "cell_type": "code",
   "execution_count": null,
   "metadata": {},
   "outputs": [],
   "source": [
    "df.isna().sum()"
   ]
  },
  {
   "cell_type": "code",
   "execution_count": null,
   "metadata": {},
   "outputs": [],
   "source": [
    "df_v1 = df.iloc[:,:18]\n",
    "\n",
    "df_v1 =df_v1.drop(columns=[\"İlan no\", \"Son Güncelleme Tarihi\", \"Takas\"])\n",
    "df_v1.isna().sum()\n",
    "\n"
   ]
  },
  {
   "cell_type": "code",
   "execution_count": null,
   "metadata": {},
   "outputs": [],
   "source": [
    "df_v2 = df_v1.dropna()\n",
    "df_v2.isna().sum()"
   ]
  },
  {
   "cell_type": "code",
   "execution_count": 71,
   "metadata": {},
   "outputs": [],
   "source": [
    "df_v2 = df_v2.rename(columns={'Oda + Salon Sayısı': 'Num_Of_Room', 'Brüt / Net M2': 'Area',\n",
    "                               'Bulunduğu Kat': 'Floor',\"Bina Yaşı\":\"Age\",\"Isınma Tipi\":\"Heat_type\",\"Kat Sayısı\":\"Apt_Floor\",\n",
    "                               \"Krediye Uygunluk\":\"Credit_Eli\",\"Eşya Durumu\":\"Items\",\"Banyo Sayısı\":\"Num_of_Bath\",\"Kullanım Durumu\":\"Usage\",\"Cephe\":\"Side\",\"Rent\":\"Price\"})"
   ]
  },
  {
   "cell_type": "code",
   "execution_count": 72,
   "metadata": {},
   "outputs": [],
   "source": [
    "df_v2 = df_v2.drop(columns=[\"Side\"])"
   ]
  },
  {
   "cell_type": "code",
   "execution_count": null,
   "metadata": {},
   "outputs": [],
   "source": [
    "df_v2"
   ]
  },
  {
   "cell_type": "code",
   "execution_count": 74,
   "metadata": {},
   "outputs": [],
   "source": [
    "value_counts = df_v2['Floor'].value_counts()"
   ]
  },
  {
   "cell_type": "code",
   "execution_count": null,
   "metadata": {},
   "outputs": [],
   "source": [
    "for value, count in value_counts.items():\n",
    " print(f\"{value}: {count}\")\n"
   ]
  },
  {
   "cell_type": "code",
   "execution_count": 76,
   "metadata": {},
   "outputs": [],
   "source": [
    "first_floor = [\"Zemin\", \"Giriş Katı\", \"Bahçe Katı\", \"Yüksek Giriş\"]\n",
    "basement = [\"Kot 1\", \"Kot 2\", \"Kot 3\", \"Bodrum\", \"Bodrum ve Zemin\", \"Yarı Bodrum\"]\n",
    "top_floor = [\"En Üst Kat\", \"Teras Katı\", \"Çatı Katı\"]"
   ]
  },
  {
   "cell_type": "code",
   "execution_count": null,
   "metadata": {},
   "outputs": [],
   "source": [
    "# Replace the values in the dataframe\n",
    "df_v2['Floor'] = df_v2['Floor'].replace(first_floor, 'first floor')\n",
    "df_v2['Floor'] = df_v2['Floor'].replace(basement, 'basement')\n",
    "df_v2['Floor'] = df_v2['Floor'].replace(top_floor, 'top floor')\n",
    "\n",
    "# Drop rows with \"Asma Kat\" as a value\n",
    "df_v2 = df_v2[df_v2['Floor'] != \"Asma Kat\"]\n",
    "\n",
    "# Assign the rest to \"interstage\"\n",
    "unique_values = df_v2['Floor'].unique()\n",
    "interstage = [value for value in unique_values if value not in ['first floor', 'basement', 'top floor']]\n",
    "df_v2['Floor'] = df_v2['Floor'].replace(interstage, 'interstage')\n"
   ]
  },
  {
   "cell_type": "code",
   "execution_count": null,
   "metadata": {},
   "outputs": [],
   "source": [
    "value_counts = df_v2['Floor'].value_counts()\n",
    "for value, count in value_counts.items():\n",
    "    print(f\"{value}: {count}\")\n"
   ]
  },
  {
   "cell_type": "code",
   "execution_count": null,
   "metadata": {},
   "outputs": [],
   "source": [
    "df_v2['Age'] = df_v2['Age'].str.extract('(\\d+)').astype(float)"
   ]
  },
  {
   "cell_type": "code",
   "execution_count": null,
   "metadata": {},
   "outputs": [],
   "source": [
    "value_counts = df_v2['Heat_type'].value_counts()\n",
    "\n",
    "\n",
    "for value, count in value_counts.items():\n",
    "    print(f\"{value}: {count}\")\n"
   ]
  },
  {
   "cell_type": "code",
   "execution_count": 81,
   "metadata": {},
   "outputs": [],
   "source": [
    "value_counts = df_v2['Heat_type'].value_counts()\n",
    "last_six_values = value_counts[-6:].index.tolist()\n",
    "\n",
    "\n",
    "df_v2 = df_v2[~df_v2['Heat_type'].isin(last_six_values)]\n",
    "value_counts = df_v2['Heat_type'].value_counts()"
   ]
  },
  {
   "cell_type": "code",
   "execution_count": null,
   "metadata": {},
   "outputs": [],
   "source": [
    "for value, count in value_counts.items():\n",
    "    print(f\"{value}: {count}\")\n"
   ]
  },
  {
   "cell_type": "code",
   "execution_count": 83,
   "metadata": {},
   "outputs": [],
   "source": [
    "value_counts = df_v2['Heat_type'].value_counts()\n",
    "last_5_values = value_counts[-5:].index.tolist()\n",
    "\n",
    "df_v2 = df_v2[~df_v2['Heat_type'].isin(last_5_values)]\n",
    "value_counts = df_v2['District'].value_counts()"
   ]
  },
  {
   "cell_type": "code",
   "execution_count": null,
   "metadata": {},
   "outputs": [],
   "source": [
    "for value, count in value_counts.items():\n",
    "    print(f\"{value}: {count}\")\n",
    "\n"
   ]
  },
  {
   "cell_type": "code",
   "execution_count": null,
   "metadata": {},
   "outputs": [],
   "source": [
    "value_counts = df_v2['Neighborhood'].value_counts()\n",
    "neighborhood_counts = {}\n",
    "\n",
    "for value, count in value_counts.items():\n",
    "    neighborhood_counts[value] = count\n",
    "\n",
    "print(neighborhood_counts)"
   ]
  },
  {
   "cell_type": "code",
   "execution_count": 86,
   "metadata": {},
   "outputs": [],
   "source": [
    "df_v2['Apt_Floor'] = df_v2['Apt_Floor'].str.extract('(\\d+)').astype(float)"
   ]
  },
  {
   "cell_type": "code",
   "execution_count": null,
   "metadata": {},
   "outputs": [],
   "source": [
    "value_counts = df_v2['Credit_Eli'].value_counts()\n",
    "\n",
    "# Print each unique value and its count\n",
    "for value, count in value_counts.items():\n",
    "    print(f\"{value}: {count}\")"
   ]
  },
  {
   "cell_type": "code",
   "execution_count": 88,
   "metadata": {},
   "outputs": [],
   "source": [
    "value_counts = df_v2['Credit_Eli'].value_counts()\n",
    "\n",
    "last_values = value_counts[-1:].index.tolist()\n",
    "\n",
    "df_v2 = df_v2[~df_v2['Credit_Eli'].isin(last_values)]\n",
    "value_counts = df_v2['Credit_Eli'].value_counts()"
   ]
  },
  {
   "cell_type": "code",
   "execution_count": null,
   "metadata": {},
   "outputs": [],
   "source": [
    "for value, count in value_counts.items():\n",
    "    print(f\"{value}: {count}\")\n",
    "value_counts = df_v2['Items'].value_counts()\n"
   ]
  },
  {
   "cell_type": "code",
   "execution_count": null,
   "metadata": {},
   "outputs": [],
   "source": [
    "for value, count in value_counts.items():\n",
    "    print(f\"{value}: {count}\")\n",
    "df_v2['Items'] = df_v2['Items'].replace({'Eşyalı Değil': 0, 'Eşyalı': 1})\n",
    "\n",
    "df_v2[\"Credit_Eli\"] = df_v2[\"Credit_Eli\"].replace({\"Uygun\":1,\"Uygun değil\":0}) "
   ]
  },
  {
   "cell_type": "code",
   "execution_count": null,
   "metadata": {},
   "outputs": [],
   "source": [
    "value_counts = df_v2['Usage'].value_counts()\n",
    "\n",
    "\n",
    "for value, count in value_counts.items():\n",
    "    print(f\"{value}: {count}\")"
   ]
  },
  {
   "cell_type": "code",
   "execution_count": 92,
   "metadata": {},
   "outputs": [],
   "source": [
    "value_counts = df_v2['Usage'].value_counts()\n",
    "\n",
    "\n",
    "last_value = value_counts[-1:].index.tolist()\n",
    "\n",
    "\n",
    "df_v2 = df_v2[~df_v2['Usage'].isin(last_value)]\n"
   ]
  },
  {
   "cell_type": "code",
   "execution_count": null,
   "metadata": {},
   "outputs": [],
   "source": [
    "df_v2.isna().sum()"
   ]
  },
  {
   "cell_type": "code",
   "execution_count": 94,
   "metadata": {},
   "outputs": [],
   "source": [
    "df_v2 = df_v2.dropna()\n",
    "\n"
   ]
  },
  {
   "cell_type": "code",
   "execution_count": null,
   "metadata": {},
   "outputs": [],
   "source": [
    "df_v2.dtypes"
   ]
  },
  {
   "cell_type": "code",
   "execution_count": null,
   "metadata": {},
   "outputs": [],
   "source": [
    "df_v2['Price'] = df_v2['Price'].str.replace('.', '').str.replace(' TL', '')\n",
    "df_v2[\"Price\"] = df_v2[\"Price\"].astype(float)\n",
    "df_v2['Num_Of_Room'] = df_v2['Num_Of_Room'].apply(lambda x: int(x.split('+')[0]) + int(x.split('+')[1]))\n",
    "\n",
    "# Remove 'm2' from Area and convert to integers\n",
    "df_v2['Area'] = df_v2['Area'].str.replace(' m2', '').astype(float)\n",
    "df_v2 = df_v2.drop(columns=[\"City\"])\n",
    "df_v2.dtypes"
   ]
  },
  {
   "cell_type": "code",
   "execution_count": null,
   "metadata": {},
   "outputs": [],
   "source": [
    "df_v2.dtypes"
   ]
  },
  {
   "cell_type": "code",
   "execution_count": null,
   "metadata": {},
   "outputs": [],
   "source": [
    "df_v2.isna().sum()"
   ]
  },
  {
   "cell_type": "code",
   "execution_count": 103,
   "metadata": {},
   "outputs": [],
   "source": [
    "categorical_columns = [\"Floor\",\"Heat_type\",\"Usage\"]  \n",
    "df_v2 = pd.get_dummies(df_v2, columns=categorical_columns, drop_first=False)"
   ]
  },
  {
   "cell_type": "code",
   "execution_count": 104,
   "metadata": {},
   "outputs": [],
   "source": [
    "column_to_move = 'Price'\n",
    "column = df_v2.pop(column_to_move)\n",
    "df_v2.insert(len(df_v2.columns), column_to_move, column)\n",
    "\n"
   ]
  },
  {
   "cell_type": "code",
   "execution_count": 105,
   "metadata": {},
   "outputs": [],
   "source": [
    "df_v3 = df_v2.reset_index()\n",
    "df_v3 = df_v3.drop(columns=[\"index\"])"
   ]
  },
  {
   "cell_type": "code",
   "execution_count": 106,
   "metadata": {},
   "outputs": [],
   "source": [
    "df_v3.to_excel(\"house_price_Test.xlsx\")"
   ]
  }
 ],
 "metadata": {
  "kernelspec": {
   "display_name": "machine_learn",
   "language": "python",
   "name": "python3"
  },
  "language_info": {
   "codemirror_mode": {
    "name": "ipython",
    "version": 3
   },
   "file_extension": ".py",
   "mimetype": "text/x-python",
   "name": "python",
   "nbconvert_exporter": "python",
   "pygments_lexer": "ipython3",
   "version": "3.9.15"
  },
  "orig_nbformat": 4
 },
 "nbformat": 4,
 "nbformat_minor": 2
}
