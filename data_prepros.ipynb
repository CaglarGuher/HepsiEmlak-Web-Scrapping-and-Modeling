{
 "cells": [
  {
   "cell_type": "code",
   "execution_count": 1,
   "metadata": {},
   "outputs": [],
   "source": [
    "import pandas as pd"
   ]
  },
  {
   "cell_type": "code",
   "execution_count": 2,
   "metadata": {},
   "outputs": [
    {
     "name": "stderr",
     "output_type": "stream",
     "text": [
      "C:\\Users\\PC\\AppData\\Local\\Temp\\ipykernel_19068\\4013986287.py:1: DtypeWarning: Columns (27,28,29) have mixed types. Specify dtype option on import or set low_memory=False.\n",
      "  df_v1 = pd.read_csv(\"total_house_prices.csv\",index_col=0)\n"
     ]
    }
   ],
   "source": [
    "df_v1 = pd.read_csv(\"total_house_prices.csv\",index_col=0)"
   ]
  },
  {
   "cell_type": "code",
   "execution_count": 3,
   "metadata": {},
   "outputs": [
    {
     "data": {
      "text/plain": [
       "City                         0\n",
       "District                     0\n",
       "Neighborhood                 0\n",
       "İlan no                      0\n",
       "Son Güncelleme Tarihi        0\n",
       "Oda + Salon Sayısı           0\n",
       "Brüt / Net M2                0\n",
       "Bulunduğu Kat             1773\n",
       "Bina Yaşı                    0\n",
       "Isınma Tipi                  0\n",
       "Kat Sayısı                  26\n",
       "Krediye Uygunluk             4\n",
       "Eşya Durumu               2051\n",
       "Banyo Sayısı                22\n",
       "Kullanım Durumu           1951\n",
       "Takas                     3313\n",
       "Cephe                     4624\n",
       "Rent                         0\n",
       "Tapu Durumu               3574\n",
       "Yapı Tipi                 7256\n",
       "Yapının Durumu            6698\n",
       "Aidat                    14733\n",
       "Kira Getirisi            16246\n",
       "Yakıt Tipi                5771\n",
       "Yetkili Ofis              9566\n",
       "Site İçerisinde          30259\n",
       "Depozito                 33322\n",
       "Kapalı Alan M2           33325\n",
       "Açık Alan M2             33325\n",
       "Bina Sayısı              33325\n",
       "Ada No                   33324\n",
       "Parsel No                33324\n",
       "dtype: int64"
      ]
     },
     "execution_count": 3,
     "metadata": {},
     "output_type": "execute_result"
    }
   ],
   "source": [
    "df_v1.isna().sum()"
   ]
  },
  {
   "cell_type": "code",
   "execution_count": 4,
   "metadata": {},
   "outputs": [
    {
     "data": {
      "text/plain": [
       "City                      0\n",
       "District                  0\n",
       "Neighborhood              0\n",
       "Oda + Salon Sayısı        0\n",
       "Brüt / Net M2             0\n",
       "Bulunduğu Kat          1773\n",
       "Bina Yaşı                 0\n",
       "Isınma Tipi               0\n",
       "Kat Sayısı               26\n",
       "Krediye Uygunluk          4\n",
       "Eşya Durumu            2051\n",
       "Banyo Sayısı             22\n",
       "Kullanım Durumu        1951\n",
       "Cephe                  4624\n",
       "Rent                      0\n",
       "Tapu Durumu            3574\n",
       "Yapı Tipi              7256\n",
       "Yapının Durumu         6698\n",
       "Aidat                 14733\n",
       "Kira Getirisi         16246\n",
       "Yakıt Tipi             5771\n",
       "Yetkili Ofis           9566\n",
       "Site İçerisinde       30259\n",
       "Depozito              33322\n",
       "Kapalı Alan M2        33325\n",
       "Açık Alan M2          33325\n",
       "Bina Sayısı           33325\n",
       "Ada No                33324\n",
       "Parsel No             33324\n",
       "dtype: int64"
      ]
     },
     "execution_count": 4,
     "metadata": {},
     "output_type": "execute_result"
    }
   ],
   "source": [
    "df_v1 =df_v1.drop(columns=[\"İlan no\", \"Son Güncelleme Tarihi\", \"Takas\"])\n",
    "df_v1.isna().sum()\n",
    "\n"
   ]
  },
  {
   "cell_type": "code",
   "execution_count": 5,
   "metadata": {},
   "outputs": [],
   "source": [
    "df_v1 = df_v1.rename(columns={'Oda + Salon Sayısı': 'Num_Of_Room', 'Brüt / Net M2': 'Area',\n",
    "                               'Bulunduğu Kat': 'Floor',\"Bina Yaşı\":\"Age\",\"Isınma Tipi\":\"Heat_type\",\"Kat Sayısı\":\"Apt_Floor\",\n",
    "                               \"Krediye Uygunluk\":\"Credit_Eli\",\"Eşya Durumu\":\"Items\",\"Banyo Sayısı\":\"Num_of_Bath\",\"Kullanım Durumu\":\"Usage\",\"Cephe\":\"Side\",\"Rent\":\"Price\"})"
   ]
  },
  {
   "cell_type": "code",
   "execution_count": 6,
   "metadata": {},
   "outputs": [
    {
     "data": {
      "text/plain": [
       "City               0.0\n",
       "District           0.0\n",
       "Neighborhood       0.0\n",
       "Num_Of_Room        0.0\n",
       "Area               0.0\n",
       "Floor              0.0\n",
       "Age                0.0\n",
       "Heat_type          0.0\n",
       "Apt_Floor          0.0\n",
       "Credit_Eli         0.0\n",
       "Items              0.0\n",
       "Num_of_Bath        0.0\n",
       "Usage              0.0\n",
       "Price              0.0\n",
       "Tapu Durumu        0.0\n",
       "Yapı Tipi          0.0\n",
       "Yapının Durumu     0.0\n",
       "Aidat              0.0\n",
       "Kira Getirisi      0.0\n",
       "Yakıt Tipi         0.0\n",
       "Yetkili Ofis       0.0\n",
       "Site İçerisinde    0.0\n",
       "Depozito           0.0\n",
       "Kapalı Alan M2     0.0\n",
       "Açık Alan M2       0.0\n",
       "Bina Sayısı        0.0\n",
       "Ada No             0.0\n",
       "Parsel No          0.0\n",
       "dtype: float64"
      ]
     },
     "execution_count": 6,
     "metadata": {},
     "output_type": "execute_result"
    }
   ],
   "source": [
    "df_v1 = df_v1.drop(columns=[\"Side\"])\n",
    "df_v2 = df_v1.dropna()\n",
    "df_v2.isna().sum()\n"
   ]
  },
  {
   "cell_type": "code",
   "execution_count": null,
   "metadata": {},
   "outputs": [],
   "source": [
    "value_counts = df_v2['Floor'].value_counts()"
   ]
  },
  {
   "cell_type": "code",
   "execution_count": null,
   "metadata": {},
   "outputs": [],
   "source": [
    "for value, count in value_counts.items():\n",
    "    print(f\"{value}: {count}\")\n"
   ]
  },
  {
   "cell_type": "code",
   "execution_count": null,
   "metadata": {},
   "outputs": [],
   "source": [
    "first_floor = [\"Zemin\", \"Giriş Katı\", \"Bahçe Katı\", \"Yüksek Giriş\"]\n",
    "basement = [\"Kot 1\", \"Kot 2\", \"Kot 3\", \"Bodrum\", \"Bodrum ve Zemin\", \"Yarı Bodrum\"]\n",
    "top_floor = [\"En Üst Kat\", \"Teras Katı\", \"Çatı Katı\"]"
   ]
  },
  {
   "cell_type": "code",
   "execution_count": null,
   "metadata": {},
   "outputs": [],
   "source": [
    "# Replace the values in the dataframe\n",
    "df_v2['Floor'] = df_v2['Floor'].replace(first_floor, 'first floor')\n",
    "df_v2['Floor'] = df_v2['Floor'].replace(basement, 'basement')\n",
    "df_v2['Floor'] = df_v2['Floor'].replace(top_floor, 'top floor')\n",
    "\n",
    "# Drop rows with \"Asma Kat\" as a value\n",
    "df_v2 = df_v2[df_v2['Floor'] != \"Asma Kat\"]\n",
    "\n",
    "# Assign the rest to \"interstage\"\n",
    "unique_values = df_v2['Floor'].unique()\n",
    "interstage = [value for value in unique_values if value not in ['first floor', 'basement', 'top floor']]\n",
    "df_v2['Floor'] = df_v2['Floor'].replace(interstage, 'interstage')\n"
   ]
  },
  {
   "cell_type": "code",
   "execution_count": null,
   "metadata": {},
   "outputs": [],
   "source": [
    "value_counts = df_v2['Floor'].value_counts()\n",
    "for value, count in value_counts.items():\n",
    "    print(f\"{value}: {count}\")\n"
   ]
  },
  {
   "cell_type": "code",
   "execution_count": null,
   "metadata": {},
   "outputs": [],
   "source": [
    "df_v2['Age'] = df_v2['Age'].str.extract('(\\d+)').astype(float)"
   ]
  },
  {
   "cell_type": "code",
   "execution_count": null,
   "metadata": {},
   "outputs": [],
   "source": [
    "value_counts = df_v2['Heat_type'].value_counts()\n",
    "\n",
    "# Print each unique value and its count\n",
    "for value, count in value_counts.items():\n",
    "    print(f\"{value}: {count}\")\n"
   ]
  },
  {
   "cell_type": "code",
   "execution_count": null,
   "metadata": {},
   "outputs": [],
   "source": [
    "value_counts = df_v2['Heat_type'].value_counts()\n",
    "last_six_values = value_counts[-6:].index.tolist()\n",
    "\n",
    "# Remove rows with the last 6 unique 'Heat_type' values\n",
    "df_v2 = df_v2[~df_v2['Heat_type'].isin(last_six_values)]\n",
    "value_counts = df_v2['Heat_type'].value_counts()"
   ]
  },
  {
   "cell_type": "code",
   "execution_count": null,
   "metadata": {},
   "outputs": [],
   "source": [
    "for value, count in value_counts.items():\n",
    "    print(f\"{value}: {count}\")\n"
   ]
  },
  {
   "cell_type": "code",
   "execution_count": null,
   "metadata": {},
   "outputs": [],
   "source": [
    "value_counts = df_v2['Heat_type'].value_counts()\n",
    "last_5_values = value_counts[-5:].index.tolist()\n",
    "\n",
    "df_v2 = df_v2[~df_v2['Heat_type'].isin(last_5_values)]\n",
    "value_counts = df_v2['District'].value_counts()"
   ]
  },
  {
   "cell_type": "code",
   "execution_count": null,
   "metadata": {},
   "outputs": [],
   "source": [
    "for value, count in value_counts.items():\n",
    "    print(f\"{value}: {count}\")\n",
    "\n"
   ]
  },
  {
   "cell_type": "code",
   "execution_count": null,
   "metadata": {},
   "outputs": [],
   "source": [
    "df_v2 =df_v2.drop(columns = [\"District\"])"
   ]
  },
  {
   "cell_type": "code",
   "execution_count": null,
   "metadata": {},
   "outputs": [],
   "source": [
    "value_counts = df_v2['Neighborhood'].value_counts()\n",
    "for value, count in value_counts.items():\n",
    "    print(f\"{value}: {count}\")"
   ]
  },
  {
   "cell_type": "code",
   "execution_count": null,
   "metadata": {},
   "outputs": [],
   "source": [
    "value_counts = df_v2['Neighborhood'].value_counts()\n",
    "last_380_values = value_counts[-150:].index.tolist()\n",
    "\n",
    "df_v2 = df_v2[~df_v2['Neighborhood'].isin(last_380_values)]"
   ]
  },
  {
   "cell_type": "code",
   "execution_count": null,
   "metadata": {},
   "outputs": [],
   "source": [
    "df_v2['Apt_Floor'] = df_v2['Apt_Floor'].str.extract('(\\d+)').astype(float)"
   ]
  },
  {
   "cell_type": "code",
   "execution_count": null,
   "metadata": {},
   "outputs": [],
   "source": [
    "value_counts = df_v2['Credit_Eli'].value_counts()\n",
    "\n",
    "# Print each unique value and its count\n",
    "for value, count in value_counts.items():\n",
    "    print(f\"{value}: {count}\")"
   ]
  },
  {
   "cell_type": "code",
   "execution_count": null,
   "metadata": {},
   "outputs": [],
   "source": [
    "value_counts = df_v2['Credit_Eli'].value_counts()\n",
    "\n",
    "# Get a list of the last 6 unique values\n",
    "last_values = value_counts[-1:].index.tolist()\n",
    "\n",
    "# Remove rows with the last 6 unique 'Heat_type' values\n",
    "df_v2 = df_v2[~df_v2['Credit_Eli'].isin(last_values)]\n",
    "value_counts = df_v2['Credit_Eli'].value_counts()"
   ]
  },
  {
   "cell_type": "code",
   "execution_count": null,
   "metadata": {},
   "outputs": [],
   "source": [
    "for value, count in value_counts.items():\n",
    "    print(f\"{value}: {count}\")\n",
    "value_counts = df_v2['Items'].value_counts()\n"
   ]
  },
  {
   "cell_type": "code",
   "execution_count": null,
   "metadata": {},
   "outputs": [],
   "source": [
    "for value, count in value_counts.items():\n",
    "    print(f\"{value}: {count}\")\n",
    "df_v2['Items'] = df_v2['Items'].replace({'Eşyalı Değil': 0, 'Eşyalı': 1})\n",
    "\n",
    "df_v2[\"Credit_Eli\"] = df_v2[\"Credit_Eli\"].replace({\"Uygun\":1,\"Uygun değil\":0}) "
   ]
  },
  {
   "cell_type": "code",
   "execution_count": null,
   "metadata": {},
   "outputs": [],
   "source": [
    "value_counts = df_v2['Usage'].value_counts()\n",
    "\n",
    "# Print each unique value and its count\n",
    "for value, count in value_counts.items():\n",
    "    print(f\"{value}: {count}\")"
   ]
  },
  {
   "cell_type": "code",
   "execution_count": null,
   "metadata": {},
   "outputs": [],
   "source": [
    "value_counts = df_v2['Usage'].value_counts()\n",
    "\n",
    "# Get a list of the last 6 unique values\n",
    "last_value = value_counts[-1:].index.tolist()\n",
    "\n",
    "# Remove rows with the last 6 unique 'Heat_type' values\n",
    "df_v2 = df_v2[~df_v2['Usage'].isin(last_value)]\n"
   ]
  },
  {
   "cell_type": "code",
   "execution_count": null,
   "metadata": {},
   "outputs": [],
   "source": [
    "df_v2.isna().sum()"
   ]
  },
  {
   "cell_type": "code",
   "execution_count": null,
   "metadata": {},
   "outputs": [],
   "source": [
    "df_v2 = df_v2.dropna()\n",
    "\n"
   ]
  },
  {
   "cell_type": "code",
   "execution_count": null,
   "metadata": {},
   "outputs": [],
   "source": [
    "df_v2.dtypes"
   ]
  },
  {
   "cell_type": "code",
   "execution_count": null,
   "metadata": {},
   "outputs": [],
   "source": [
    "df_v2['Price'] = df_v2['Price'].str.replace('.', '').str.replace(' TL', '')\n",
    "df_v2[\"Price\"] = df_v2[\"Price\"].astype(float)\n",
    "df_v2['Num_Of_Room'] = df_v2['Num_Of_Room'].apply(lambda x: int(x.split('+')[0]) + int(x.split('+')[1]))\n",
    "\n",
    "# Remove 'm2' from Area and convert to integers\n",
    "df_v2['Area'] = df_v2['Area'].str.replace(' m2', '').astype(float)\n",
    "df_v2 = df_v2.drop(columns=[\"City\"])\n",
    "df_v2.dtypes"
   ]
  },
  {
   "cell_type": "code",
   "execution_count": null,
   "metadata": {},
   "outputs": [],
   "source": [
    "categorical_columns = [\"Floor\",\"Heat_type\",\"Usage\"]  # list the categorical columns you want to convert\n",
    "df_v2 = pd.get_dummies(df_v2, columns=categorical_columns, drop_first=False)\n",
    "\n",
    "\n"
   ]
  },
  {
   "cell_type": "code",
   "execution_count": null,
   "metadata": {},
   "outputs": [],
   "source": [
    "df_v2.dtypes"
   ]
  },
  {
   "cell_type": "code",
   "execution_count": null,
   "metadata": {},
   "outputs": [],
   "source": [
    "df_v2.isna().sum()"
   ]
  },
  {
   "cell_type": "code",
   "execution_count": null,
   "metadata": {},
   "outputs": [],
   "source": [
    "column_to_move = 'Price'\n",
    "column = df_v2.pop(column_to_move)\n",
    "df_v2.insert(len(df_v2.columns), column_to_move, column)\n",
    "df_v3 = df_v2.reset_index()\n",
    "df_v3 = df_v3.drop(columns=[\"index\"])\n",
    "df_v3.to_excel(\"house_price_progress_neig.xlsx\")"
   ]
  }
 ],
 "metadata": {
  "kernelspec": {
   "display_name": "machine_learn",
   "language": "python",
   "name": "python3"
  },
  "language_info": {
   "codemirror_mode": {
    "name": "ipython",
    "version": 3
   },
   "file_extension": ".py",
   "mimetype": "text/x-python",
   "name": "python",
   "nbconvert_exporter": "python",
   "pygments_lexer": "ipython3",
   "version": "3.9.15"
  },
  "orig_nbformat": 4
 },
 "nbformat": 4,
 "nbformat_minor": 2
}
