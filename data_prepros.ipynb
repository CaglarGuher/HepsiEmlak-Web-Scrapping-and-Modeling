{
 "cells": [
  {
   "cell_type": "code",
   "execution_count": 65,
   "metadata": {},
   "outputs": [],
   "source": [
    "import pandas as pd"
   ]
  },
  {
   "cell_type": "code",
   "execution_count": 66,
   "metadata": {},
   "outputs": [],
   "source": [
    "import sys\n",
    "stdout = sys.stdout\n",
    "\n",
    "# some functions that mess up sys.stdout\n",
    "\n",
    "sys.stdout = stdout"
   ]
  },
  {
   "cell_type": "code",
   "execution_count": 67,
   "metadata": {},
   "outputs": [
    {
     "name": "stderr",
     "output_type": "stream",
     "text": [
      "C:\\Users\\PC\\AppData\\Local\\Temp\\ipykernel_19068\\1769208789.py:1: DtypeWarning: Columns (27,28,29) have mixed types. Specify dtype option on import or set low_memory=False.\n",
      "  df = pd.read_csv(\"total_house_prices.csv\",index_col=0)\n"
     ]
    }
   ],
   "source": [
    "df = pd.read_csv(\"total_house_prices.csv\",index_col=0)"
   ]
  },
  {
   "cell_type": "code",
   "execution_count": 68,
   "metadata": {},
   "outputs": [
    {
     "data": {
      "text/plain": [
       "City                         0\n",
       "District                     0\n",
       "Neighborhood                 0\n",
       "İlan no                      0\n",
       "Son Güncelleme Tarihi        0\n",
       "Oda + Salon Sayısı           0\n",
       "Brüt / Net M2                0\n",
       "Bulunduğu Kat             1773\n",
       "Bina Yaşı                    0\n",
       "Isınma Tipi                  0\n",
       "Kat Sayısı                  26\n",
       "Krediye Uygunluk             4\n",
       "Eşya Durumu               2051\n",
       "Banyo Sayısı                22\n",
       "Kullanım Durumu           1951\n",
       "Takas                     3313\n",
       "Cephe                     4624\n",
       "Rent                         0\n",
       "Tapu Durumu               3574\n",
       "Yapı Tipi                 7256\n",
       "Yapının Durumu            6698\n",
       "Aidat                    14733\n",
       "Kira Getirisi            16246\n",
       "Yakıt Tipi                5771\n",
       "Yetkili Ofis              9566\n",
       "Site İçerisinde          30259\n",
       "Depozito                 33322\n",
       "Kapalı Alan M2           33325\n",
       "Açık Alan M2             33325\n",
       "Bina Sayısı              33325\n",
       "Ada No                   33324\n",
       "Parsel No                33324\n",
       "dtype: int64"
      ]
     },
     "execution_count": 68,
     "metadata": {},
     "output_type": "execute_result"
    }
   ],
   "source": [
    "df.isna().sum()"
   ]
  },
  {
   "cell_type": "code",
   "execution_count": 69,
   "metadata": {},
   "outputs": [
    {
     "data": {
      "text/plain": [
       "City                     0\n",
       "District                 0\n",
       "Neighborhood             0\n",
       "Oda + Salon Sayısı       0\n",
       "Brüt / Net M2            0\n",
       "Bulunduğu Kat         1773\n",
       "Bina Yaşı                0\n",
       "Isınma Tipi              0\n",
       "Kat Sayısı              26\n",
       "Krediye Uygunluk         4\n",
       "Eşya Durumu           2051\n",
       "Banyo Sayısı            22\n",
       "Kullanım Durumu       1951\n",
       "Cephe                 4624\n",
       "Rent                     0\n",
       "dtype: int64"
      ]
     },
     "execution_count": 69,
     "metadata": {},
     "output_type": "execute_result"
    }
   ],
   "source": [
    "df_v1 = df.iloc[:,:18]\n",
    "\n",
    "df_v1 =df_v1.drop(columns=[\"İlan no\", \"Son Güncelleme Tarihi\", \"Takas\"])\n",
    "df_v1.isna().sum()\n",
    "\n"
   ]
  },
  {
   "cell_type": "code",
   "execution_count": 70,
   "metadata": {},
   "outputs": [
    {
     "data": {
      "text/plain": [
       "City                  0\n",
       "District              0\n",
       "Neighborhood          0\n",
       "Oda + Salon Sayısı    0\n",
       "Brüt / Net M2         0\n",
       "Bulunduğu Kat         0\n",
       "Bina Yaşı             0\n",
       "Isınma Tipi           0\n",
       "Kat Sayısı            0\n",
       "Krediye Uygunluk      0\n",
       "Eşya Durumu           0\n",
       "Banyo Sayısı          0\n",
       "Kullanım Durumu       0\n",
       "Cephe                 0\n",
       "Rent                  0\n",
       "dtype: int64"
      ]
     },
     "execution_count": 70,
     "metadata": {},
     "output_type": "execute_result"
    }
   ],
   "source": [
    "df_v2 = df_v1.dropna()\n",
    "df_v2.isna().sum()"
   ]
  },
  {
   "cell_type": "code",
   "execution_count": 71,
   "metadata": {},
   "outputs": [],
   "source": [
    "df_v2 = df_v2.rename(columns={'Oda + Salon Sayısı': 'Num_Of_Room', 'Brüt / Net M2': 'Area',\n",
    "                               'Bulunduğu Kat': 'Floor',\"Bina Yaşı\":\"Age\",\"Isınma Tipi\":\"Heat_type\",\"Kat Sayısı\":\"Apt_Floor\",\n",
    "                               \"Krediye Uygunluk\":\"Credit_Eli\",\"Eşya Durumu\":\"Items\",\"Banyo Sayısı\":\"Num_of_Bath\",\"Kullanım Durumu\":\"Usage\",\"Cephe\":\"Side\",\"Rent\":\"Price\"})"
   ]
  },
  {
   "cell_type": "code",
   "execution_count": 72,
   "metadata": {},
   "outputs": [],
   "source": [
    "df_v2 = df_v2.drop(columns=[\"Side\"])"
   ]
  },
  {
   "cell_type": "code",
   "execution_count": 73,
   "metadata": {},
   "outputs": [
    {
     "data": {
      "text/html": [
       "<div>\n",
       "<style scoped>\n",
       "    .dataframe tbody tr th:only-of-type {\n",
       "        vertical-align: middle;\n",
       "    }\n",
       "\n",
       "    .dataframe tbody tr th {\n",
       "        vertical-align: top;\n",
       "    }\n",
       "\n",
       "    .dataframe thead th {\n",
       "        text-align: right;\n",
       "    }\n",
       "</style>\n",
       "<table border=\"1\" class=\"dataframe\">\n",
       "  <thead>\n",
       "    <tr style=\"text-align: right;\">\n",
       "      <th></th>\n",
       "      <th>City</th>\n",
       "      <th>District</th>\n",
       "      <th>Neighborhood</th>\n",
       "      <th>Num_Of_Room</th>\n",
       "      <th>Area</th>\n",
       "      <th>Floor</th>\n",
       "      <th>Age</th>\n",
       "      <th>Heat_type</th>\n",
       "      <th>Apt_Floor</th>\n",
       "      <th>Credit_Eli</th>\n",
       "      <th>Items</th>\n",
       "      <th>Num_of_Bath</th>\n",
       "      <th>Usage</th>\n",
       "      <th>Price</th>\n",
       "    </tr>\n",
       "  </thead>\n",
       "  <tbody>\n",
       "    <tr>\n",
       "      <th>0</th>\n",
       "      <td>Ankara</td>\n",
       "      <td>Gölbaşı</td>\n",
       "      <td>Hacılar</td>\n",
       "      <td>7 + 2</td>\n",
       "      <td>550 m2</td>\n",
       "      <td>Bahçe Katı</td>\n",
       "      <td>4 Yaşında</td>\n",
       "      <td>Kombi</td>\n",
       "      <td>3 Katlı</td>\n",
       "      <td>Uygun</td>\n",
       "      <td>Eşyalı Değil</td>\n",
       "      <td>6.0</td>\n",
       "      <td>Boş</td>\n",
       "      <td>17.700.000 TL</td>\n",
       "    </tr>\n",
       "    <tr>\n",
       "      <th>4</th>\n",
       "      <td>Ankara</td>\n",
       "      <td>Keçiören</td>\n",
       "      <td>Etlik</td>\n",
       "      <td>3 + 1</td>\n",
       "      <td>145 m2</td>\n",
       "      <td>2. Kat</td>\n",
       "      <td>16 Yaşında</td>\n",
       "      <td>Kombi</td>\n",
       "      <td>4 Katlı</td>\n",
       "      <td>Uygun</td>\n",
       "      <td>Eşyalı Değil</td>\n",
       "      <td>2.0</td>\n",
       "      <td>Boş</td>\n",
       "      <td>2.790.000 TL</td>\n",
       "    </tr>\n",
       "    <tr>\n",
       "      <th>6</th>\n",
       "      <td>Ankara</td>\n",
       "      <td>Çankaya</td>\n",
       "      <td>Birlik</td>\n",
       "      <td>6 + 2</td>\n",
       "      <td>340 m2</td>\n",
       "      <td>4. Kat</td>\n",
       "      <td>18 Yaşında</td>\n",
       "      <td>Kombi</td>\n",
       "      <td>4 Katlı</td>\n",
       "      <td>Uygun</td>\n",
       "      <td>Eşyalı Değil</td>\n",
       "      <td>3.0</td>\n",
       "      <td>Boş</td>\n",
       "      <td>4.450.000 TL</td>\n",
       "    </tr>\n",
       "    <tr>\n",
       "      <th>8</th>\n",
       "      <td>Ankara</td>\n",
       "      <td>Keçiören</td>\n",
       "      <td>Ovacık</td>\n",
       "      <td>4 + 1</td>\n",
       "      <td>215 m2</td>\n",
       "      <td>2. Kat</td>\n",
       "      <td>Sıfır Bina</td>\n",
       "      <td>Merkezi (Pay Ölçer)</td>\n",
       "      <td>13 Katlı</td>\n",
       "      <td>Uygun</td>\n",
       "      <td>Eşyalı Değil</td>\n",
       "      <td>2.0</td>\n",
       "      <td>Boş</td>\n",
       "      <td>4.350.000 TL</td>\n",
       "    </tr>\n",
       "    <tr>\n",
       "      <th>9</th>\n",
       "      <td>Ankara</td>\n",
       "      <td>Keçiören</td>\n",
       "      <td>Etlik</td>\n",
       "      <td>3 + 1</td>\n",
       "      <td>110 m2</td>\n",
       "      <td>Kot 2</td>\n",
       "      <td>25 Yaşında</td>\n",
       "      <td>Kombi</td>\n",
       "      <td>3 Katlı</td>\n",
       "      <td>Uygun</td>\n",
       "      <td>Eşyalı Değil</td>\n",
       "      <td>1.0</td>\n",
       "      <td>Mülk Sahibi</td>\n",
       "      <td>1.249.000 TL</td>\n",
       "    </tr>\n",
       "    <tr>\n",
       "      <th>...</th>\n",
       "      <td>...</td>\n",
       "      <td>...</td>\n",
       "      <td>...</td>\n",
       "      <td>...</td>\n",
       "      <td>...</td>\n",
       "      <td>...</td>\n",
       "      <td>...</td>\n",
       "      <td>...</td>\n",
       "      <td>...</td>\n",
       "      <td>...</td>\n",
       "      <td>...</td>\n",
       "      <td>...</td>\n",
       "      <td>...</td>\n",
       "      <td>...</td>\n",
       "    </tr>\n",
       "    <tr>\n",
       "      <th>33321</th>\n",
       "      <td>Ankara</td>\n",
       "      <td>Çankaya</td>\n",
       "      <td>Maltepe</td>\n",
       "      <td>3 + 1</td>\n",
       "      <td>110 m2</td>\n",
       "      <td>2. Kat</td>\n",
       "      <td>36 Yaşında</td>\n",
       "      <td>Yerden Isıtma</td>\n",
       "      <td>4 Katlı</td>\n",
       "      <td>Uygun</td>\n",
       "      <td>Eşyalı Değil</td>\n",
       "      <td>1.0</td>\n",
       "      <td>Kiracılı</td>\n",
       "      <td>3.250.000 TL</td>\n",
       "    </tr>\n",
       "    <tr>\n",
       "      <th>33322</th>\n",
       "      <td>Ankara</td>\n",
       "      <td>Polatlı</td>\n",
       "      <td>Zafer</td>\n",
       "      <td>6 + 1</td>\n",
       "      <td>340 m2</td>\n",
       "      <td>En Üst Kat</td>\n",
       "      <td>11 Yaşında</td>\n",
       "      <td>Kombi</td>\n",
       "      <td>4 Katlı</td>\n",
       "      <td>Uygun</td>\n",
       "      <td>Eşyalı Değil</td>\n",
       "      <td>2.0</td>\n",
       "      <td>Mülk Sahibi</td>\n",
       "      <td>1.395.000 TL</td>\n",
       "    </tr>\n",
       "    <tr>\n",
       "      <th>33323</th>\n",
       "      <td>Ankara</td>\n",
       "      <td>Çankaya</td>\n",
       "      <td>Yıldızevler</td>\n",
       "      <td>3 + 1</td>\n",
       "      <td>155 m2</td>\n",
       "      <td>2. Kat</td>\n",
       "      <td>23 Yaşında</td>\n",
       "      <td>Merkezi</td>\n",
       "      <td>4 Katlı</td>\n",
       "      <td>Uygun</td>\n",
       "      <td>Eşyalı Değil</td>\n",
       "      <td>2.0</td>\n",
       "      <td>Boş</td>\n",
       "      <td>4.750.000 TL</td>\n",
       "    </tr>\n",
       "    <tr>\n",
       "      <th>33324</th>\n",
       "      <td>Ankara</td>\n",
       "      <td>Keçiören</td>\n",
       "      <td>Bağlarbaşı</td>\n",
       "      <td>4 + 1</td>\n",
       "      <td>215 m2</td>\n",
       "      <td>1. Kat</td>\n",
       "      <td>8 Yaşında</td>\n",
       "      <td>Kombi</td>\n",
       "      <td>10 Katlı</td>\n",
       "      <td>Uygun</td>\n",
       "      <td>Eşyalı Değil</td>\n",
       "      <td>2.0</td>\n",
       "      <td>Boş</td>\n",
       "      <td>4.250.000 TL</td>\n",
       "    </tr>\n",
       "    <tr>\n",
       "      <th>33325</th>\n",
       "      <td>Ankara</td>\n",
       "      <td>Çankaya</td>\n",
       "      <td>100. Yıl</td>\n",
       "      <td>3 + 1</td>\n",
       "      <td>125 m2</td>\n",
       "      <td>Yüksek Giriş</td>\n",
       "      <td>40 Yaşında</td>\n",
       "      <td>Merkezi</td>\n",
       "      <td>3 Katlı</td>\n",
       "      <td>Uygun</td>\n",
       "      <td>Eşyalı Değil</td>\n",
       "      <td>1.0</td>\n",
       "      <td>Kiracılı</td>\n",
       "      <td>2.250.000 TL</td>\n",
       "    </tr>\n",
       "  </tbody>\n",
       "</table>\n",
       "<p>25248 rows × 14 columns</p>\n",
       "</div>"
      ],
      "text/plain": [
       "         City  District Neighborhood Num_Of_Room    Area         Floor  \\\n",
       "0      Ankara   Gölbaşı      Hacılar       7 + 2  550 m2    Bahçe Katı   \n",
       "4      Ankara  Keçiören        Etlik       3 + 1  145 m2        2. Kat   \n",
       "6      Ankara   Çankaya       Birlik       6 + 2  340 m2        4. Kat   \n",
       "8      Ankara  Keçiören       Ovacık       4 + 1  215 m2        2. Kat   \n",
       "9      Ankara  Keçiören        Etlik       3 + 1  110 m2         Kot 2   \n",
       "...       ...       ...          ...         ...     ...           ...   \n",
       "33321  Ankara   Çankaya      Maltepe       3 + 1  110 m2        2. Kat   \n",
       "33322  Ankara   Polatlı        Zafer       6 + 1  340 m2    En Üst Kat   \n",
       "33323  Ankara   Çankaya  Yıldızevler       3 + 1  155 m2        2. Kat   \n",
       "33324  Ankara  Keçiören   Bağlarbaşı       4 + 1  215 m2        1. Kat   \n",
       "33325  Ankara   Çankaya     100. Yıl       3 + 1  125 m2  Yüksek Giriş   \n",
       "\n",
       "              Age            Heat_type Apt_Floor Credit_Eli         Items  \\\n",
       "0       4 Yaşında                Kombi   3 Katlı      Uygun  Eşyalı Değil   \n",
       "4      16 Yaşında                Kombi   4 Katlı      Uygun  Eşyalı Değil   \n",
       "6      18 Yaşında                Kombi   4 Katlı      Uygun  Eşyalı Değil   \n",
       "8      Sıfır Bina  Merkezi (Pay Ölçer)  13 Katlı      Uygun  Eşyalı Değil   \n",
       "9      25 Yaşında                Kombi   3 Katlı      Uygun  Eşyalı Değil   \n",
       "...           ...                  ...       ...        ...           ...   \n",
       "33321  36 Yaşında        Yerden Isıtma   4 Katlı      Uygun  Eşyalı Değil   \n",
       "33322  11 Yaşında                Kombi   4 Katlı      Uygun  Eşyalı Değil   \n",
       "33323  23 Yaşında              Merkezi   4 Katlı      Uygun  Eşyalı Değil   \n",
       "33324   8 Yaşında                Kombi  10 Katlı      Uygun  Eşyalı Değil   \n",
       "33325  40 Yaşında              Merkezi   3 Katlı      Uygun  Eşyalı Değil   \n",
       "\n",
       "       Num_of_Bath        Usage          Price  \n",
       "0              6.0          Boş  17.700.000 TL  \n",
       "4              2.0          Boş   2.790.000 TL  \n",
       "6              3.0          Boş   4.450.000 TL  \n",
       "8              2.0          Boş   4.350.000 TL  \n",
       "9              1.0  Mülk Sahibi   1.249.000 TL  \n",
       "...            ...          ...            ...  \n",
       "33321          1.0     Kiracılı   3.250.000 TL  \n",
       "33322          2.0  Mülk Sahibi   1.395.000 TL  \n",
       "33323          2.0          Boş   4.750.000 TL  \n",
       "33324          2.0          Boş   4.250.000 TL  \n",
       "33325          1.0     Kiracılı   2.250.000 TL  \n",
       "\n",
       "[25248 rows x 14 columns]"
      ]
     },
     "execution_count": 73,
     "metadata": {},
     "output_type": "execute_result"
    }
   ],
   "source": [
    "df_v2"
   ]
  },
  {
   "cell_type": "code",
   "execution_count": 74,
   "metadata": {},
   "outputs": [],
   "source": [
    "value_counts = df_v2['Floor'].value_counts()"
   ]
  },
  {
   "cell_type": "code",
   "execution_count": 75,
   "metadata": {},
   "outputs": [
    {
     "name": "stdout",
     "output_type": "stream",
     "text": [
      "3. Kat: 3904\n",
      "1. Kat: 3778\n",
      "2. Kat: 3570\n",
      "Yüksek Giriş: 2040\n",
      "4. Kat: 1633\n",
      "Ara Kat: 1464\n",
      "En Üst Kat: 1141\n",
      "Kot 1: 1008\n",
      "Giriş Katı: 966\n",
      "5. Kat: 748\n",
      "Bahçe Katı: 628\n",
      "6. Kat: 598\n",
      "7. Kat: 408\n",
      "8. Kat: 392\n",
      "Kot 2: 390\n",
      "9. Kat: 351\n",
      "10. Kat: 330\n",
      "11. Kat: 245\n",
      "21 ve üzeri: 236\n",
      "12. Kat: 222\n",
      "Teras Katı: 211\n",
      "13. Kat: 152\n",
      "14. Kat: 140\n",
      "Zemin: 111\n",
      "Çatı Katı: 109\n",
      "15. Kat: 97\n",
      "Kot 3: 85\n",
      "16. Kat: 68\n",
      "17. Kat: 53\n",
      "Villa Katı: 35\n",
      "20. Kat: 34\n",
      "18. Kat: 29\n",
      "19. Kat: 27\n",
      "Bodrum: 22\n",
      "Bodrum ve Zemin: 11\n",
      "Yarı Bodrum: 10\n",
      "Asma Kat: 2\n"
     ]
    }
   ],
   "source": [
    "for value, count in value_counts.items():\n",
    " print(f\"{value}: {count}\")\n"
   ]
  },
  {
   "cell_type": "code",
   "execution_count": 76,
   "metadata": {},
   "outputs": [],
   "source": [
    "first_floor = [\"Zemin\", \"Giriş Katı\", \"Bahçe Katı\", \"Yüksek Giriş\"]\n",
    "basement = [\"Kot 1\", \"Kot 2\", \"Kot 3\", \"Bodrum\", \"Bodrum ve Zemin\", \"Yarı Bodrum\"]\n",
    "top_floor = [\"En Üst Kat\", \"Teras Katı\", \"Çatı Katı\"]"
   ]
  },
  {
   "cell_type": "code",
   "execution_count": 77,
   "metadata": {},
   "outputs": [
    {
     "name": "stderr",
     "output_type": "stream",
     "text": [
      "C:\\Users\\PC\\AppData\\Local\\Temp\\ipykernel_19068\\1174050341.py:12: SettingWithCopyWarning: \n",
      "A value is trying to be set on a copy of a slice from a DataFrame.\n",
      "Try using .loc[row_indexer,col_indexer] = value instead\n",
      "\n",
      "See the caveats in the documentation: https://pandas.pydata.org/pandas-docs/stable/user_guide/indexing.html#returning-a-view-versus-a-copy\n",
      "  df_v2['Floor'] = df_v2['Floor'].replace(interstage, 'interstage')\n"
     ]
    }
   ],
   "source": [
    "# Replace the values in the dataframe\n",
    "df_v2['Floor'] = df_v2['Floor'].replace(first_floor, 'first floor')\n",
    "df_v2['Floor'] = df_v2['Floor'].replace(basement, 'basement')\n",
    "df_v2['Floor'] = df_v2['Floor'].replace(top_floor, 'top floor')\n",
    "\n",
    "# Drop rows with \"Asma Kat\" as a value\n",
    "df_v2 = df_v2[df_v2['Floor'] != \"Asma Kat\"]\n",
    "\n",
    "# Assign the rest to \"interstage\"\n",
    "unique_values = df_v2['Floor'].unique()\n",
    "interstage = [value for value in unique_values if value not in ['first floor', 'basement', 'top floor']]\n",
    "df_v2['Floor'] = df_v2['Floor'].replace(interstage, 'interstage')\n"
   ]
  },
  {
   "cell_type": "code",
   "execution_count": 78,
   "metadata": {},
   "outputs": [
    {
     "name": "stdout",
     "output_type": "stream",
     "text": [
      "interstage: 18514\n",
      "first floor: 3745\n",
      "basement: 1526\n",
      "top floor: 1461\n"
     ]
    }
   ],
   "source": [
    "value_counts = df_v2['Floor'].value_counts()\n",
    "for value, count in value_counts.items():\n",
    "    print(f\"{value}: {count}\")\n"
   ]
  },
  {
   "cell_type": "code",
   "execution_count": 79,
   "metadata": {},
   "outputs": [
    {
     "name": "stderr",
     "output_type": "stream",
     "text": [
      "C:\\Users\\PC\\AppData\\Local\\Temp\\ipykernel_19068\\3636994891.py:1: SettingWithCopyWarning: \n",
      "A value is trying to be set on a copy of a slice from a DataFrame.\n",
      "Try using .loc[row_indexer,col_indexer] = value instead\n",
      "\n",
      "See the caveats in the documentation: https://pandas.pydata.org/pandas-docs/stable/user_guide/indexing.html#returning-a-view-versus-a-copy\n",
      "  df_v2['Age'] = df_v2['Age'].str.extract('(\\d+)').astype(float)\n"
     ]
    }
   ],
   "source": [
    "df_v2['Age'] = df_v2['Age'].str.extract('(\\d+)').astype(float)"
   ]
  },
  {
   "cell_type": "code",
   "execution_count": 80,
   "metadata": {},
   "outputs": [
    {
     "name": "stdout",
     "output_type": "stream",
     "text": [
      "Kombi: 19447\n",
      "Merkezi (Pay Ölçer): 3176\n",
      "Merkezi: 2056\n",
      "Yerden Isıtma: 357\n",
      "Kat Kaloriferi: 70\n",
      "Soba: 66\n",
      "Doğalgaz Sobası: 24\n",
      "Klima: 18\n",
      "Isıtma Yok: 12\n",
      "Belirtilmemiş: 8\n",
      "Güneş Enerjisi: 4\n",
      "Fancoil Ünitesi: 4\n",
      "Jeotermal Isıtma: 3\n",
      "VRV: 1\n"
     ]
    }
   ],
   "source": [
    "value_counts = df_v2['Heat_type'].value_counts()\n",
    "\n",
    "# Print each unique value and its count\n",
    "for value, count in value_counts.items():\n",
    "    print(f\"{value}: {count}\")\n"
   ]
  },
  {
   "cell_type": "code",
   "execution_count": 81,
   "metadata": {},
   "outputs": [],
   "source": [
    "value_counts = df_v2['Heat_type'].value_counts()\n",
    "last_six_values = value_counts[-6:].index.tolist()\n",
    "\n",
    "# Remove rows with the last 6 unique 'Heat_type' values\n",
    "df_v2 = df_v2[~df_v2['Heat_type'].isin(last_six_values)]\n",
    "value_counts = df_v2['Heat_type'].value_counts()"
   ]
  },
  {
   "cell_type": "code",
   "execution_count": 82,
   "metadata": {},
   "outputs": [
    {
     "name": "stdout",
     "output_type": "stream",
     "text": [
      "Kombi: 19447\n",
      "Merkezi (Pay Ölçer): 3176\n",
      "Merkezi: 2056\n",
      "Yerden Isıtma: 357\n",
      "Kat Kaloriferi: 70\n",
      "Soba: 66\n",
      "Doğalgaz Sobası: 24\n",
      "Klima: 18\n"
     ]
    }
   ],
   "source": [
    "for value, count in value_counts.items():\n",
    "    print(f\"{value}: {count}\")\n"
   ]
  },
  {
   "cell_type": "code",
   "execution_count": 83,
   "metadata": {},
   "outputs": [],
   "source": [
    "value_counts = df_v2['Heat_type'].value_counts()\n",
    "last_5_values = value_counts[-5:].index.tolist()\n",
    "\n",
    "df_v2 = df_v2[~df_v2['Heat_type'].isin(last_5_values)]\n",
    "value_counts = df_v2['District'].value_counts()"
   ]
  },
  {
   "cell_type": "code",
   "execution_count": 84,
   "metadata": {},
   "outputs": [
    {
     "name": "stdout",
     "output_type": "stream",
     "text": [
      "Çankaya: 6486\n",
      "Keçiören: 4499\n",
      "Mamak: 3846\n",
      "Etimesgut: 2377\n",
      "Sincan: 2113\n",
      "Yenimahalle: 1930\n",
      "Altındağ: 1247\n",
      "Pursaklar: 797\n",
      "Gölbaşı: 721\n",
      "Polatlı: 443\n",
      "Çubuk: 121\n",
      "Akyurt: 38\n",
      "Kahramankazan: 16\n",
      "Kızılcahamam: 13\n",
      "Elmadağ: 12\n",
      "Beypazarı: 9\n",
      "Şereflikoçhisar: 4\n",
      "Bala: 2\n",
      "Ayaş: 2\n",
      "Kalecik: 1\n",
      "Haymana: 1\n",
      "Güdül: 1\n"
     ]
    }
   ],
   "source": [
    "for value, count in value_counts.items():\n",
    "    print(f\"{value}: {count}\")\n",
    "\n"
   ]
  },
  {
   "cell_type": "code",
   "execution_count": 85,
   "metadata": {},
   "outputs": [
    {
     "name": "stdout",
     "output_type": "stream",
     "text": [
      "Etlik: 566\n",
      "Ayvalı: 363\n",
      "Ovacık: 311\n",
      "Bağlıca: 282\n",
      "Durali Alıç: 279\n",
      "Atapark: 274\n",
      "Mustafa Kemal: 268\n",
      "Akşemsettin: 262\n",
      "İncek: 251\n",
      "Mimar Sinan: 245\n",
      "Merkez: 236\n",
      "İstasyon: 231\n",
      "Karakaya: 231\n",
      "İlkadım: 231\n",
      "General Zeki Doğan: 230\n",
      "Karapürçek: 228\n",
      "Harbiye: 227\n",
      "Bahçelievler: 220\n",
      "Yayla: 214\n",
      "Aydınlıkevler: 211\n",
      "Cengizhan: 205\n",
      "Emek: 203\n",
      "Turgut Özal: 202\n",
      "Mareşal Çakmak: 202\n",
      "Mutlu: 199\n",
      "Şahintepe: 193\n",
      "Yükseltepe: 193\n",
      "Keklik Pınarı: 192\n",
      "Yunus Emre: 191\n",
      "Naci Çakır: 188\n",
      "İncirli: 180\n",
      "Aşağı Eğlence: 179\n",
      "Fatih: 178\n",
      "Yukarı Bahçelievler: 176\n",
      "Malazgirt: 172\n",
      "Fahri Korutürk: 172\n",
      "Kırkkonaklar: 170\n",
      "Birlik: 167\n",
      "Ata: 166\n",
      "Akpınar: 166\n",
      "Plevne: 166\n",
      "Pınarbaşı: 161\n",
      "Esertepe: 160\n",
      "Huzur: 158\n",
      "Sancaktepe: 152\n",
      "Osman Temiz: 150\n",
      "Tandoğan: 149\n",
      "Kutlu: 148\n",
      "Menderes: 145\n",
      "Selçuklu: 143\n",
      "Fevzi Çakmak: 143\n",
      "Güneşevler: 142\n",
      "Alacaatlı: 136\n",
      "Topçu: 135\n",
      "Türközü: 134\n",
      "Elvan: 133\n",
      "Piyade: 132\n",
      "Kanuni: 132\n",
      "Mürsel Uluç: 130\n",
      "Şehit Kubilay: 130\n",
      "İlkbahar: 128\n",
      "Yeni Bağlıca: 127\n",
      "Sokullu Mehmet Paşa: 124\n",
      "Tuzluçayır: 122\n",
      "Ayrancı: 122\n",
      "Aydınlar: 117\n",
      "Cevizlidere: 117\n",
      "Ahi Mesut: 116\n",
      "Alsancak: 114\n",
      "Pamuklar: 113\n",
      "Ege: 113\n",
      "Atatürk: 107\n",
      "Yeşilova: 104\n",
      "Şehitlik: 104\n",
      "Taşpınar: 102\n",
      "Karşıyaka: 102\n",
      "Yeni Batı: 102\n",
      "Şehit Osman Avcı: 101\n",
      "Kuşcağız: 101\n",
      "Maltepe: 101\n",
      "Bahçelerüstü: 99\n",
      "Aziziye: 98\n",
      "Aşık Veysel: 96\n",
      "Uyanış: 95\n",
      "Hisar: 93\n",
      "Gazi: 92\n",
      "Şafaktepe: 91\n",
      "Çağlayan: 89\n",
      "Süvari: 88\n",
      "Büyükesat: 88\n",
      "Aşağı Öveçler: 87\n",
      "Tepebaşı: 86\n",
      "Hürel: 86\n",
      "Andiçen: 85\n",
      "Şirintepe: 85\n",
      "Aşıkpaşa: 85\n",
      "Cumhuriyet: 83\n",
      "Şehit Cengiz Karaca: 83\n",
      "Beşikkaya: 83\n",
      "Örnek: 82\n",
      "Şehit Cevdet Özdemir: 81\n",
      "Karapınar: 81\n",
      "Bademlik: 80\n",
      "Başak: 78\n",
      "Ufuktepe: 78\n",
      "Beytepe: 77\n",
      "Demirlibahçe: 76\n",
      "Bağlarbaşı: 76\n",
      "Öveçler: 75\n",
      "Misket: 75\n",
      "Seyranbağları: 74\n",
      "Peyami Safa: 74\n",
      "Atakent: 74\n",
      "Gültepe: 73\n",
      "Kentkoop: 73\n",
      "Kavaklıdere: 72\n",
      "Kardelen: 71\n",
      "29 Ekim: 70\n",
      "Gökkuşağı: 70\n",
      "Yıldıztepe: 69\n",
      "Demetgül: 69\n",
      "Oran: 68\n",
      "Mehtap: 68\n",
      "Kazım Orbay: 67\n",
      "30 Ağustos: 67\n",
      "Yukarı Dikmen: 66\n",
      "Hilal: 65\n",
      "Feridun Çelik: 65\n",
      "Gülveren: 64\n",
      "19 Mayıs: 64\n",
      "Eryaman: 64\n",
      "Şentepe: 63\n",
      "Kızılcaşar: 63\n",
      "Şenlik: 63\n",
      "Göksu: 62\n",
      "Osmangazi: 62\n",
      "Ayyıldız: 61\n",
      "Abidinpaşa: 61\n",
      "Yaşamkent: 61\n",
      "Şeyh Şamil: 60\n",
      "Tunahan: 60\n",
      "Metin Oktay: 60\n",
      "Turkuaz: 59\n",
      "Demetevler: 59\n",
      "Başpınar: 58\n",
      "Battalgazi: 57\n",
      "Kazım Karabekir: 57\n",
      "Çiğdemtepe: 57\n",
      "Altıağaç: 56\n",
      "Seğmenler: 55\n",
      "İşçi Blokları: 54\n",
      "Güvenevler: 53\n",
      "Boğaziçi: 52\n",
      "Ertuğrulgazi: 52\n",
      "Bahçeleriçi: 51\n",
      "Adnan Menderes: 51\n",
      "Harman: 51\n",
      "Saraycık: 51\n",
      "Atayurt: 50\n",
      "İstiklal: 50\n",
      "Sancak: 50\n",
      "Gaziosmanpaşa: 49\n",
      "Dodurga: 49\n",
      "Tınaztepe: 48\n",
      "Kültür: 48\n",
      "Oğuzlar: 48\n",
      "Ergazi: 48\n",
      "Kafkas: 48\n",
      "Yıldızevler: 47\n",
      "Çiçekli: 47\n",
      "Mutlukent: 47\n",
      "Saimekadın: 46\n",
      "Ekin: 46\n",
      "Kartaltepe: 46\n",
      "Zafer: 46\n",
      "Bağcılar: 46\n",
      "Balkiraz: 46\n",
      "Demetlale: 45\n",
      "Basınevleri: 45\n",
      "Devlet: 45\n",
      "Akdere: 45\n",
      "Kayalar: 44\n",
      "Yakacık: 43\n",
      "Emniyet: 42\n",
      "Umut: 42\n",
      "Hacılar: 42\n",
      "Yeşilevler: 42\n",
      "Varlık: 42\n",
      "Fakülteler: 41\n",
      "Şeker: 41\n",
      "Remzi Oğuz Arık: 41\n",
      "Serhat: 41\n",
      "Çiğdem: 41\n",
      "Barbaros: 41\n",
      "Küçük Kayaş: 41\n",
      "Anıttepe: 41\n",
      "Işınlar: 40\n",
      "Saray Fatih: 40\n",
      "100. Yıl: 39\n",
      "Yıldırım Beyazıt: 39\n",
      "Esatoğlu: 38\n",
      "Hacettepe: 38\n",
      "Çarşı: 38\n",
      "Güzeltepe: 38\n",
      "Doğantepe: 37\n",
      "Kavacık Subayevleri: 37\n",
      "Altay: 36\n",
      "Mehmet Akif Ersoy: 36\n",
      "Karaağaç: 36\n",
      "Çankaya: 36\n",
      "Ulubey: 35\n",
      "Metin Akkuş: 35\n",
      "Bayraktar: 34\n",
      "Batı Sitesi: 34\n",
      "Alcı: 34\n",
      "Osmanlı: 34\n",
      "Bademlidere: 33\n",
      "Güzelkent: 33\n",
      "Saray Cumhuriyet: 33\n",
      "İnönü: 33\n",
      "Ahi Evran: 33\n",
      "Çamlıtepe: 32\n",
      "Yavuz Selim: 32\n",
      "Susuz: 32\n",
      "Yeşilbayır: 31\n",
      "Köşk: 31\n",
      "İleri: 31\n",
      "İlkyerleşim: 31\n",
      "Zafertepe: 31\n",
      "Ümit: 30\n",
      "Güçlükaya: 30\n",
      "Aktepe: 30\n",
      "Baraj: 30\n",
      "Yukarı Öveçler: 29\n",
      "Etiler: 29\n",
      "Konutkent: 29\n",
      "Tepealtı: 29\n",
      "Esentepe: 29\n",
      "Ön Cebeci: 28\n",
      "Esenboğa Merkez: 28\n",
      "Yeşiltepe: 27\n",
      "Kızılırmak: 27\n",
      "Arka Topraklık: 27\n",
      "Diriliş: 27\n",
      "Koru: 26\n",
      "Eymir: 26\n",
      "Prof. Dr. Ahmet Taner Kışlalı: 26\n",
      "Yuvaköy: 25\n",
      "Kurtuluş: 25\n",
      "Zirvekent: 24\n",
      "Kazım Özalp: 24\n",
      "İncesu: 24\n",
      "Yeni Bayındır: 24\n",
      "Cebeci: 24\n",
      "Yeniçağ: 24\n",
      "Avcılar: 24\n",
      "Şahap Gürler: 23\n",
      "Çukurambar: 23\n",
      "Çayyolu: 23\n",
      "Ragıp Tüzün: 23\n",
      "Mehmet Akif: 22\n",
      "Yavuzselim: 22\n",
      "Fidanlık: 22\n",
      "Törekent: 22\n",
      "Mebusevleri: 22\n",
      "Küçükesat: 22\n",
      "Yapracık: 21\n",
      "Şafak: 20\n",
      "Tevfik İleri: 20\n",
      "Şefkat: 20\n",
      "Özevler: 20\n",
      "Emrah: 20\n",
      "Nasuh Akar: 20\n",
      "Murat: 20\n",
      "İlker: 20\n",
      "Ergenekon: 19\n",
      "Güzelyaka: 19\n",
      "Gökçek: 19\n",
      "Güventepe: 19\n",
      "Burç: 19\n",
      "Göktürk: 18\n",
      "Derbent: 18\n",
      "Kalaba: 18\n",
      "Hüseyingazi: 18\n",
      "Uğur Mumcu: 18\n",
      "Fatih Sultan: 18\n",
      "Gayret: 17\n",
      "Karargahtepe: 17\n",
      "Kızılay: 17\n",
      "Korkutreis: 16\n",
      "Altınevler: 16\n",
      "Doğuş: 16\n",
      "Muhsin Ertuğrul: 16\n",
      "Balgat: 15\n",
      "Kamil Ocak: 15\n",
      "Kocatepe: 15\n",
      "Çaldıran: 15\n",
      "Tulumtaş: 15\n",
      "Yücetepe: 15\n",
      "Yukarı Yahyalar: 14\n",
      "Anadolu: 14\n",
      "Beştepe: 13\n",
      "Yıldırım: 13\n",
      "Kıbrısköy: 13\n",
      "Ulubatlı Hasan: 13\n",
      "Gazi Osmanpaşa: 13\n",
      "Üreğil: 12\n",
      "Barış: 12\n",
      "Erzurum: 12\n",
      "Yukarıyurtçu: 12\n",
      "Zübeyde Hanım: 11\n",
      "Sağlık: 11\n",
      "Dumlupınar: 11\n",
      "Güzelyurt: 11\n",
      "Şehit Cengiz Topel: 11\n",
      "Eti: 11\n",
      "Bostancık: 11\n",
      "Beyazıt: 10\n",
      "23 Nisan: 10\n",
      "Kuzey Yıldızı: 10\n",
      "Karacaören: 10\n",
      "Hasköy: 10\n",
      "Yeni: 10\n",
      "Hürriyet: 10\n",
      "Aşağı Yahyalar: 9\n",
      "Dutluk: 9\n",
      "Hasanoğlan Bahçelievler: 9\n",
      "Akçay: 9\n",
      "Üçpınar: 9\n",
      "Örencik: 8\n",
      "Topraklık: 8\n",
      "Şenyuva: 8\n",
      "Ostim OSB: 8\n",
      "Mevlana: 7\n",
      "Kaletepe: 7\n",
      "Çamlıca: 6\n",
      "Lalahan: 6\n",
      "Önder: 6\n",
      "Üniversiteler: 5\n",
      "Meşrutiyet: 5\n",
      "Atıfbey: 5\n",
      "Söğütözü: 5\n",
      "Erler: 5\n",
      "Ehlibeyt: 5\n",
      "Barıştepe: 5\n",
      "Kusunlar: 5\n",
      "Kale: 5\n",
      "25 Mart: 4\n",
      "Araplar: 4\n",
      "Ahlatlıbel: 4\n",
      "Alcı OSB: 4\n",
      "Yeşilkent: 4\n",
      "Ostim: 4\n",
      "Karacakaya: 4\n",
      "Hacıhasan: 4\n",
      "Aşağıçavundur: 3\n",
      "Ballıkpınar: 3\n",
      "Yenice: 3\n",
      "Saray Osmangazi: 3\n",
      "Boztepe: 3\n",
      "Bağlum Güzelyurt: 3\n",
      "Gökçehüyük: 3\n",
      "Yenihisar: 3\n",
      "Yeniçimşit: 3\n",
      "Saracalar: 3\n",
      "Satıkadın: 3\n",
      "Gümüşdere: 3\n",
      "Balıkhisar: 2\n",
      "Basrı: 2\n",
      "Büğdüz: 2\n",
      "Hacıkara: 2\n",
      "İsmetpaşa: 2\n",
      "İvedikköy: 2\n",
      "Beynam: 2\n",
      "Altınova: 2\n",
      "İvedik OSB: 2\n",
      "Kayı: 2\n",
      "Dostlar: 2\n",
      "Kızılca: 2\n",
      "Aşağıyurtçu: 2\n",
      "Güzelhisar: 1\n",
      "Olukpınar: 1\n",
      "Sünlü: 1\n",
      "Bahçekapı: 1\n",
      "Balıkuyumcu: 1\n",
      "Tepecik: 1\n",
      "Solfasol: 1\n",
      "Başağaç: 1\n",
      "Ayvaşık: 1\n",
      "Kayaş: 1\n",
      "Yukarı İmrohor: 1\n",
      "Çağa: 1\n",
      "Karaoğlan: 1\n",
      "Oyaca Yeşilçam: 1\n",
      "Hacı Bayram: 1\n",
      "Gedikli: 1\n",
      "Ferahfaki: 1\n",
      "Malıköy: 1\n",
      "Gümüşpala: 1\n",
      "Bayındır: 1\n",
      "Çoğlu: 1\n",
      "Ilıca: 1\n",
      "Kemalpaşa: 1\n",
      "Muhsin Yazıcıoğlu: 1\n",
      "Akseki: 1\n",
      "Halitcevriaslangil: 1\n",
      "Emirler: 1\n",
      "İkizce: 1\n"
     ]
    }
   ],
   "source": [
    "value_counts = df_v2['Neighborhood'].value_counts()\n",
    "for value, count in value_counts.items():\n",
    "    print(f\"{value}: {count}\")"
   ]
  },
  {
   "cell_type": "code",
   "execution_count": null,
   "metadata": {},
   "outputs": [],
   "source": [
    "#value_counts = df_v2['Neighborhood'].value_counts()\n",
    "#last_380_values = value_counts[-150:].index.tolist()\n",
    "\n",
    "#df_v2 = df_v2[~df_v2['Neighborhood'].isin(last_380_values)]"
   ]
  },
  {
   "cell_type": "code",
   "execution_count": 86,
   "metadata": {},
   "outputs": [],
   "source": [
    "df_v2['Apt_Floor'] = df_v2['Apt_Floor'].str.extract('(\\d+)').astype(float)"
   ]
  },
  {
   "cell_type": "code",
   "execution_count": 87,
   "metadata": {},
   "outputs": [
    {
     "name": "stdout",
     "output_type": "stream",
     "text": [
      "Uygun: 23550\n",
      "Uygun değil: 921\n",
      "Bilinmiyor: 208\n"
     ]
    }
   ],
   "source": [
    "value_counts = df_v2['Credit_Eli'].value_counts()\n",
    "\n",
    "# Print each unique value and its count\n",
    "for value, count in value_counts.items():\n",
    "    print(f\"{value}: {count}\")"
   ]
  },
  {
   "cell_type": "code",
   "execution_count": 88,
   "metadata": {},
   "outputs": [],
   "source": [
    "value_counts = df_v2['Credit_Eli'].value_counts()\n",
    "\n",
    "# Get a list of the last 6 unique values\n",
    "last_values = value_counts[-1:].index.tolist()\n",
    "\n",
    "# Remove rows with the last 6 unique 'Heat_type' values\n",
    "df_v2 = df_v2[~df_v2['Credit_Eli'].isin(last_values)]\n",
    "value_counts = df_v2['Credit_Eli'].value_counts()"
   ]
  },
  {
   "cell_type": "code",
   "execution_count": 89,
   "metadata": {},
   "outputs": [
    {
     "name": "stdout",
     "output_type": "stream",
     "text": [
      "Uygun: 23550\n",
      "Uygun değil: 921\n"
     ]
    }
   ],
   "source": [
    "for value, count in value_counts.items():\n",
    "    print(f\"{value}: {count}\")\n",
    "value_counts = df_v2['Items'].value_counts()\n"
   ]
  },
  {
   "cell_type": "code",
   "execution_count": 90,
   "metadata": {},
   "outputs": [
    {
     "name": "stdout",
     "output_type": "stream",
     "text": [
      "Eşyalı Değil: 23330\n",
      "Eşyalı: 1141\n"
     ]
    }
   ],
   "source": [
    "for value, count in value_counts.items():\n",
    "    print(f\"{value}: {count}\")\n",
    "df_v2['Items'] = df_v2['Items'].replace({'Eşyalı Değil': 0, 'Eşyalı': 1})\n",
    "\n",
    "df_v2[\"Credit_Eli\"] = df_v2[\"Credit_Eli\"].replace({\"Uygun\":1,\"Uygun değil\":0}) "
   ]
  },
  {
   "cell_type": "code",
   "execution_count": 91,
   "metadata": {},
   "outputs": [
    {
     "name": "stdout",
     "output_type": "stream",
     "text": [
      "Boş: 11658\n",
      "Mülk Sahibi: 6201\n",
      "Kiracılı: 6183\n",
      "Belirtilmemiş: 429\n"
     ]
    }
   ],
   "source": [
    "value_counts = df_v2['Usage'].value_counts()\n",
    "\n",
    "# Print each unique value and its count\n",
    "for value, count in value_counts.items():\n",
    "    print(f\"{value}: {count}\")"
   ]
  },
  {
   "cell_type": "code",
   "execution_count": 92,
   "metadata": {},
   "outputs": [],
   "source": [
    "value_counts = df_v2['Usage'].value_counts()\n",
    "\n",
    "# Get a list of the last 6 unique values\n",
    "last_value = value_counts[-1:].index.tolist()\n",
    "\n",
    "# Remove rows with the last 6 unique 'Heat_type' values\n",
    "df_v2 = df_v2[~df_v2['Usage'].isin(last_value)]\n"
   ]
  },
  {
   "cell_type": "code",
   "execution_count": 93,
   "metadata": {},
   "outputs": [
    {
     "data": {
      "text/plain": [
       "City               0\n",
       "District           0\n",
       "Neighborhood       0\n",
       "Num_Of_Room        0\n",
       "Area               0\n",
       "Floor              0\n",
       "Age             3982\n",
       "Heat_type          0\n",
       "Apt_Floor          0\n",
       "Credit_Eli         0\n",
       "Items              0\n",
       "Num_of_Bath        0\n",
       "Usage              0\n",
       "Price              0\n",
       "dtype: int64"
      ]
     },
     "execution_count": 93,
     "metadata": {},
     "output_type": "execute_result"
    }
   ],
   "source": [
    "df_v2.isna().sum()"
   ]
  },
  {
   "cell_type": "code",
   "execution_count": 94,
   "metadata": {},
   "outputs": [],
   "source": [
    "df_v2 = df_v2.dropna()\n",
    "\n"
   ]
  },
  {
   "cell_type": "code",
   "execution_count": 95,
   "metadata": {},
   "outputs": [
    {
     "data": {
      "text/plain": [
       "City             object\n",
       "District         object\n",
       "Neighborhood     object\n",
       "Num_Of_Room      object\n",
       "Area             object\n",
       "Floor            object\n",
       "Age             float64\n",
       "Heat_type        object\n",
       "Apt_Floor       float64\n",
       "Credit_Eli        int64\n",
       "Items             int64\n",
       "Num_of_Bath     float64\n",
       "Usage            object\n",
       "Price            object\n",
       "dtype: object"
      ]
     },
     "execution_count": 95,
     "metadata": {},
     "output_type": "execute_result"
    }
   ],
   "source": [
    "df_v2.dtypes"
   ]
  },
  {
   "cell_type": "code",
   "execution_count": 96,
   "metadata": {},
   "outputs": [
    {
     "name": "stderr",
     "output_type": "stream",
     "text": [
      "C:\\Users\\PC\\AppData\\Local\\Temp\\ipykernel_19068\\3187241926.py:1: FutureWarning: The default value of regex will change from True to False in a future version. In addition, single character regular expressions will *not* be treated as literal strings when regex=True.\n",
      "  df_v2['Price'] = df_v2['Price'].str.replace('.', '').str.replace(' TL', '')\n"
     ]
    },
    {
     "data": {
      "text/plain": [
       "District         object\n",
       "Neighborhood     object\n",
       "Num_Of_Room       int64\n",
       "Area            float64\n",
       "Floor            object\n",
       "Age             float64\n",
       "Heat_type        object\n",
       "Apt_Floor       float64\n",
       "Credit_Eli        int64\n",
       "Items             int64\n",
       "Num_of_Bath     float64\n",
       "Usage            object\n",
       "Price           float64\n",
       "dtype: object"
      ]
     },
     "execution_count": 96,
     "metadata": {},
     "output_type": "execute_result"
    }
   ],
   "source": [
    "df_v2['Price'] = df_v2['Price'].str.replace('.', '').str.replace(' TL', '')\n",
    "df_v2[\"Price\"] = df_v2[\"Price\"].astype(float)\n",
    "df_v2['Num_Of_Room'] = df_v2['Num_Of_Room'].apply(lambda x: int(x.split('+')[0]) + int(x.split('+')[1]))\n",
    "\n",
    "# Remove 'm2' from Area and convert to integers\n",
    "df_v2['Area'] = df_v2['Area'].str.replace(' m2', '').astype(float)\n",
    "df_v2 = df_v2.drop(columns=[\"City\"])\n",
    "df_v2.dtypes"
   ]
  },
  {
   "cell_type": "code",
   "execution_count": 97,
   "metadata": {},
   "outputs": [
    {
     "data": {
      "text/plain": [
       "District         object\n",
       "Neighborhood     object\n",
       "Num_Of_Room       int64\n",
       "Area            float64\n",
       "Floor            object\n",
       "Age             float64\n",
       "Heat_type        object\n",
       "Apt_Floor       float64\n",
       "Credit_Eli        int64\n",
       "Items             int64\n",
       "Num_of_Bath     float64\n",
       "Usage            object\n",
       "Price           float64\n",
       "dtype: object"
      ]
     },
     "execution_count": 97,
     "metadata": {},
     "output_type": "execute_result"
    }
   ],
   "source": [
    "df_v2.dtypes"
   ]
  },
  {
   "cell_type": "code",
   "execution_count": 98,
   "metadata": {},
   "outputs": [
    {
     "data": {
      "text/plain": [
       "District        0\n",
       "Neighborhood    0\n",
       "Num_Of_Room     0\n",
       "Area            0\n",
       "Floor           0\n",
       "Age             0\n",
       "Heat_type       0\n",
       "Apt_Floor       0\n",
       "Credit_Eli      0\n",
       "Items           0\n",
       "Num_of_Bath     0\n",
       "Usage           0\n",
       "Price           0\n",
       "dtype: int64"
      ]
     },
     "execution_count": 98,
     "metadata": {},
     "output_type": "execute_result"
    }
   ],
   "source": [
    "df_v2.isna().sum()"
   ]
  },
  {
   "cell_type": "code",
   "execution_count": null,
   "metadata": {},
   "outputs": [],
   "source": [
    "categorical_columns = [\"Floor\",\"Heat_type\",\"Usage\"]  # list the categorical columns you want to convert\n",
    "df_v2 = pd.get_dummies(df_v2, columns=categorical_columns, drop_first=False)"
   ]
  },
  {
   "cell_type": "code",
   "execution_count": 99,
   "metadata": {},
   "outputs": [],
   "source": [
    "column_to_move = 'Price'\n",
    "column = df_v2.pop(column_to_move)\n",
    "df_v2.insert(len(df_v2.columns), column_to_move, column)\n",
    "\n"
   ]
  },
  {
   "cell_type": "code",
   "execution_count": 100,
   "metadata": {},
   "outputs": [],
   "source": [
    "df_v3 = df_v2.reset_index()\n",
    "df_v3 = df_v3.drop(columns=[\"index\"])"
   ]
  },
  {
   "cell_type": "code",
   "execution_count": 102,
   "metadata": {},
   "outputs": [],
   "source": [
    "df_v3.to_excel(\"house_price_Test.xlsx\")"
   ]
  },
  {
   "cell_type": "code",
   "execution_count": null,
   "metadata": {},
   "outputs": [],
   "source": [
    "\n"
   ]
  }
 ],
 "metadata": {
  "kernelspec": {
   "display_name": "machine_learn",
   "language": "python",
   "name": "python3"
  },
  "language_info": {
   "codemirror_mode": {
    "name": "ipython",
    "version": 3
   },
   "file_extension": ".py",
   "mimetype": "text/x-python",
   "name": "python",
   "nbconvert_exporter": "python",
   "pygments_lexer": "ipython3",
   "version": "3.9.15"
  },
  "orig_nbformat": 4
 },
 "nbformat": 4,
 "nbformat_minor": 2
}
