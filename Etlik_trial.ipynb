{
 "cells": [
  {
   "cell_type": "code",
   "execution_count": 38,
   "metadata": {},
   "outputs": [],
   "source": [
    "import pandas as pd \n",
    "import numpy as np\n",
    "import xgboost as xg\n",
    "from sklearn.metrics import mean_squared_error as MSE\n",
    "from sklearn.metrics import mean_absolute_percentage_error as MAPE\n",
    "from sklearn.model_selection import train_test_split\n",
    "import category_encoders as ce\n",
    "import matplotlib.pyplot as plt\n",
    "from sklearn.linear_model import LinearRegression\n"
   ]
  },
  {
   "cell_type": "code",
   "execution_count": 51,
   "metadata": {},
   "outputs": [],
   "source": [
    "df = pd.read_excel(\"house_price_Test.xlsx\",index_col=0)"
   ]
  },
  {
   "cell_type": "code",
   "execution_count": 80,
   "metadata": {},
   "outputs": [],
   "source": [
    "value_counts = df['Neighborhood'].value_counts()\n",
    "neighborhood_counts = {}\n",
    "\n",
    "for value, count in value_counts.items():\n",
    "    neighborhood_counts[value] = count"
   ]
  },
  {
   "cell_type": "code",
   "execution_count": 82,
   "metadata": {},
   "outputs": [],
   "source": [
    "value_counts = df['District'].value_counts()\n",
    "district_counts = {}\n",
    "\n",
    "for value, count in value_counts.items():\n",
    "    district_counts[value] = count"
   ]
  },
  {
   "cell_type": "code",
   "execution_count": 83,
   "metadata": {},
   "outputs": [
    {
     "data": {
      "text/plain": [
       "{'Çankaya': 5656,\n",
       " 'Keçiören': 3762,\n",
       " 'Mamak': 3323,\n",
       " 'Etimesgut': 1877,\n",
       " 'Yenimahalle': 1580,\n",
       " 'Sincan': 1536,\n",
       " 'Altındağ': 980,\n",
       " 'Pursaklar': 681,\n",
       " 'Gölbaşı': 282,\n",
       " 'Polatlı': 261,\n",
       " 'Çubuk': 58,\n",
       " 'Akyurt': 20,\n",
       " 'Elmadağ': 11,\n",
       " 'Kızılcahamam': 9,\n",
       " 'Kahramankazan': 8,\n",
       " 'Beypazarı': 8,\n",
       " 'Ayaş': 2,\n",
       " 'Şereflikoçhisar': 2,\n",
       " 'Haymana': 1,\n",
       " 'Bala': 1,\n",
       " 'Kalecik': 1,\n",
       " 'Güdül': 1}"
      ]
     },
     "execution_count": 83,
     "metadata": {},
     "output_type": "execute_result"
    }
   ],
   "source": [
    "district_counts"
   ]
  },
  {
   "cell_type": "code",
   "execution_count": 52,
   "metadata": {},
   "outputs": [],
   "source": [
    "filtered_df = df[df[\"Neighborhood\"] == \"Etlik\"]\n",
    "\n",
    "filtered_df = filtered_df.drop(columns=['Neighborhood',\"District\"], axis=1)\n",
    "\n",
    "\n",
    "X = filtered_df.iloc[:, :-1].values"
   ]
  },
  {
   "cell_type": "code",
   "execution_count": 53,
   "metadata": {},
   "outputs": [
    {
     "data": {
      "text/plain": [
       "(513, 17)"
      ]
     },
     "execution_count": 53,
     "metadata": {},
     "output_type": "execute_result"
    }
   ],
   "source": [
    "X.shape"
   ]
  },
  {
   "cell_type": "code",
   "execution_count": 54,
   "metadata": {},
   "outputs": [],
   "source": [
    "\n",
    "Y = filtered_df[\"Price\"].values/1000000"
   ]
  },
  {
   "cell_type": "code",
   "execution_count": 55,
   "metadata": {},
   "outputs": [
    {
     "data": {
      "text/plain": [
       "(513,)"
      ]
     },
     "execution_count": 55,
     "metadata": {},
     "output_type": "execute_result"
    }
   ],
   "source": [
    "Y.shape"
   ]
  },
  {
   "cell_type": "code",
   "execution_count": 56,
   "metadata": {},
   "outputs": [],
   "source": [
    "X_train, X_test, y_train, y_test = train_test_split(X, Y, test_size=0.2, random_state=42)"
   ]
  },
  {
   "cell_type": "code",
   "execution_count": 57,
   "metadata": {},
   "outputs": [],
   "source": [
    "#Neighborhood_index = df.columns.get_loc('Neighborhood')\n",
    "#District_index = df.columns.get_loc('District')\n",
    "#encoder = ce.TargetEncoder(cols=[Neighborhood_index,District_index])\n",
    "#encoder.fit(X_train, y_train)\n",
    "#X_train_encoded = encoder.transform(X_train).values\n",
    "#X_test_encoded = encoder.transform(X_test).values"
   ]
  },
  {
   "cell_type": "code",
   "execution_count": 58,
   "metadata": {},
   "outputs": [],
   "source": [
    "X_train_norm = (X_train - np.mean(X_train, axis=0)) / np.std(X_train, axis=0)\n",
    "X_test_norm = (X_test - np.mean(X_train, axis=0)) / np.std(X_train, axis=0)"
   ]
  },
  {
   "cell_type": "code",
   "execution_count": 69,
   "metadata": {},
   "outputs": [],
   "source": [
    "xgb =  xg.XGBRegressor(objective ='reg:squarederror',\n",
    "                                 learning_rate =0.05, # smaller learning rate\n",
    "                                 n_estimators = 2000, # larger number of trees\n",
    "                                 max_depth = 7, \n",
    "                                 subsample = 0.7, # fraction of samples used for each tree\n",
    "                                 colsample_bytree = 0.5, # fraction of columns used for each tree\n",
    "                            # early stopping after 50 rounds without improvement\n",
    "                                 eval_metric = 'rmse', # evaluation metric\n",
    "                                 verbose = True) # set to True to see training progress\n"
   ]
  },
  {
   "cell_type": "code",
   "execution_count": null,
   "metadata": {},
   "outputs": [],
   "source": [
    "lr = LinearRegression()"
   ]
  },
  {
   "cell_type": "code",
   "execution_count": 79,
   "metadata": {},
   "outputs": [
    {
     "name": "stdout",
     "output_type": "stream",
     "text": [
      "[21:09:00] WARNING: C:\\Users\\dev-admin\\croot2\\xgboost-split_1675461376218\\work\\src\\learner.cc:767: \n",
      "Parameters: { \"verbose\" } are not used.\n",
      "\n"
     ]
    },
    {
     "data": {
      "text/plain": [
       "XGBRegressor(base_score=None, booster=None, callbacks=None,\n",
       "             colsample_bylevel=None, colsample_bynode=None,\n",
       "             colsample_bytree=0.2, early_stopping_rounds=None,\n",
       "             enable_categorical=False, eval_metric='rmse', feature_types=None,\n",
       "             gamma=None, gpu_id=None, grow_policy=None, importance_type=None,\n",
       "             interaction_constraints=None, learning_rate=0.01, max_bin=None,\n",
       "             max_cat_threshold=None, max_cat_to_onehot=None,\n",
       "             max_delta_step=None, max_depth=8, max_leaves=None,\n",
       "             min_child_weight=None, missing=nan, monotone_constraints=None,\n",
       "             n_estimators=5000, n_jobs=None, num_parallel_tree=None,\n",
       "             predictor=None, random_state=None, ...)"
      ]
     },
     "execution_count": 79,
     "metadata": {},
     "output_type": "execute_result"
    }
   ],
   "source": [
    "xgb.fit(X_train, y_train,\n",
    "                eval_set=[(X_train, y_train), (X_test, y_test)],\n",
    "                verbose=False)\n"
   ]
  },
  {
   "cell_type": "code",
   "execution_count": null,
   "metadata": {},
   "outputs": [],
   "source": [
    "lr.fit(X_train, y_train)"
   ]
  },
  {
   "cell_type": "code",
   "execution_count": 71,
   "metadata": {},
   "outputs": [],
   "source": [
    "\n",
    "y_pred_train_xg = xgb.predict(X_train)\n",
    "y_pred_test_xg = xgb.predict(X_test)\n",
    "y_pred_train_lr = lr.predict(X_train)\n",
    "y_pred_test_lr = lr.predict(X_test)"
   ]
  },
  {
   "cell_type": "code",
   "execution_count": 72,
   "metadata": {},
   "outputs": [
    {
     "name": "stdout",
     "output_type": "stream",
     "text": [
      "Train MSE for XG: 0.030118196095620654\n",
      "Test MSE for XG: 0.2682104436712182\n",
      "Train MSE for LR: 0.2318251814326693\n",
      "Test MSE for LR: 0.27456920274020985\n"
     ]
    }
   ],
   "source": [
    "#Mean Square Error Calculation\n",
    "mse_train_xg = MSE(y_train, y_pred_train_xg)\n",
    "mse_test_xg = MSE(y_test, y_pred_test_xg)\n",
    "mse_train_lr = MSE(y_train, y_pred_train_lr)\n",
    "mse_test_lr = MSE(y_test, y_pred_test_lr)\n",
    "print(f'Train MSE for XG: {mse_train_xg}')\n",
    "print(f'Test MSE for XG: {mse_test_xg}')\n",
    "print(f'Train MSE for LR: {mse_train_lr}')\n",
    "print(f'Test MSE for LR: {mse_test_lr}')"
   ]
  },
  {
   "cell_type": "code",
   "execution_count": 74,
   "metadata": {},
   "outputs": [
    {
     "data": {
      "image/png": "[encoded data removed]",
      "text/plain": [
       "<Figure size 432x288 with 1 Axes>"
      ]
     },
     "metadata": {
      "needs_background": "light"
     },
     "output_type": "display_data"
    }
   ],
   "source": [
    "lower_threshold = np.percentile(y_test, 1) # 1% percentile\n",
    "upper_threshold = np.percentile(y_test, 99) # 99% percentile\n",
    "\n",
    "\n",
    "y_test_clipped = np.clip(y_test, lower_threshold, upper_threshold)\n",
    "y_pred_clipped = np.clip(y_pred_test_xg, lower_threshold, upper_threshold)\n",
    "\n",
    "plt.scatter(y_test_clipped, y_pred_clipped, c='crimson')\n",
    "plt.xlabel('y_test')\n",
    "plt.ylabel('y_pred')\n",
    "plt.show()"
   ]
  },
  {
   "cell_type": "code",
   "execution_count": 75,
   "metadata": {},
   "outputs": [
    {
     "data": {
      "image/png": "[encoded data removed]",
      "text/plain": [
       "<Figure size 432x288 with 1 Axes>"
      ]
     },
     "metadata": {
      "needs_background": "light"
     },
     "output_type": "display_data"
    }
   ],
   "source": [
    "y_test_log = np.log1p(y_test)\n",
    "y_pred_log = np.log1p(y_pred_test_lr)\n",
    "\n",
    "plt.scatter(y_test_log, y_pred_log, c='crimson')\n",
    "plt.xlabel('log(y_test + 1)')\n",
    "plt.ylabel('log(y_pred + 1)')\n",
    "plt.show()"
   ]
  },
  {
   "cell_type": "code",
   "execution_count": 78,
   "metadata": {},
   "outputs": [
    {
     "name": "stdout",
     "output_type": "stream",
     "text": [
      "R^2: 0.6100037400087139\n"
     ]
    }
   ],
   "source": [
    "from sklearn.metrics import r2_score\n",
    "r2 = r2_score(y_test, y_pred_test_lr)\n",
    "print(\"R^2:\", r2)\n"
   ]
  }
 ],
 "metadata": {
  "kernelspec": {
   "display_name": "machine_learn",
   "language": "python",
   "name": "python3"
  },
  "language_info": {
   "codemirror_mode": {
    "name": "ipython",
    "version": 3
   },
   "file_extension": ".py",
   "mimetype": "text/x-python",
   "name": "python",
   "nbconvert_exporter": "python",
   "pygments_lexer": "ipython3",
   "version": "3.9.15"
  },
  "orig_nbformat": 4
 },
 "nbformat": 4,
 "nbformat_minor": 2
}
