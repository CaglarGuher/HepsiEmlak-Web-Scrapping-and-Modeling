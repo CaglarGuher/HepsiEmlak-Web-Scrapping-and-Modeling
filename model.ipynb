{
 "cells": [
  {
   "cell_type": "code",
   "execution_count": 8,
   "metadata": {},
   "outputs": [],
   "source": [
    "import pandas as pd \n",
    "import numpy as np\n",
    "import xgboost as xg\n",
    "from sklearn.metrics import mean_squared_error as MSE\n",
    "from sklearn.metrics import mean_absolute_percentage_error as MAPE\n",
    "from sklearn.model_selection import train_test_split\n",
    "import category_encoders as ce\n",
    "import matplotlib.pyplot as plt"
   ]
  },
  {
   "cell_type": "code",
   "execution_count": 3,
   "metadata": {},
   "outputs": [],
   "source": [
    "df = pd.read_excel(\"house_price_Test.xlsx\",index_col=0)"
   ]
  },
  {
   "cell_type": "code",
   "execution_count": 4,
   "metadata": {},
   "outputs": [],
   "source": [
    "filtered_df = df[df[\"District\"] == \"Çankaya\"]\n",
    "\n",
    "# Drop the 'Neighborhood' column\n",
    "filtered_df = filtered_df.drop(columns=['Neighborhood',\"District\"], axis=1)\n",
    "\n",
    "# Select all columns except the last one\n",
    "X = filtered_df.iloc[:, :-1].values"
   ]
  },
  {
   "cell_type": "code",
   "execution_count": 5,
   "metadata": {},
   "outputs": [
    {
     "data": {
      "text/plain": [
       "array([[  8., 340.,  18., ...,   1.,   0.,   0.],\n",
       "       [  4., 120.,  26., ...,   1.,   0.,   0.],\n",
       "       [  5., 147.,  30., ...,   0.,   1.,   0.],\n",
       "       ...,\n",
       "       [  6., 180.,  25., ...,   1.,   0.,   0.],\n",
       "       [  4., 155.,  23., ...,   1.,   0.,   0.],\n",
       "       [  4., 125.,  40., ...,   0.,   1.,   0.]])"
      ]
     },
     "execution_count": 5,
     "metadata": {},
     "output_type": "execute_result"
    }
   ],
   "source": [
    "X"
   ]
  },
  {
   "cell_type": "code",
   "execution_count": 6,
   "metadata": {},
   "outputs": [],
   "source": [
    "\n",
    "Y = df[\"Price\"].values/1000000"
   ]
  },
  {
   "cell_type": "code",
   "execution_count": 54,
   "metadata": {},
   "outputs": [
    {
     "data": {
      "text/plain": [
       "City                    0\n",
       "District                0\n",
       "Neighborhood            0\n",
       "Oda + Salon Sayısı      0\n",
       "Brüt / Net              0\n",
       "Bina Yaşı               0\n",
       "Kat Sayısı              1\n",
       "Eşya Durumu           127\n",
       "Banyo Sayısı            6\n",
       "Yapının Durumu        637\n",
       "Aidat                 809\n",
       "Rent                    0\n",
       "dtype: int64"
      ]
     },
     "execution_count": 54,
     "metadata": {},
     "output_type": "execute_result"
    }
   ],
   "source": [
    "X_train, X_test, y_train, y_test = train_test_split(X, Y, test_size=0.2, random_state=42)"
   ]
  },
  {
   "cell_type": "code",
   "execution_count": null,
   "metadata": {},
   "outputs": [],
   "source": [
    "#Neighborhood_index = df.columns.get_loc('Neighborhood')\n",
    "#District_index = df.columns.get_loc('District')\n",
    "#encoder = ce.TargetEncoder(cols=[Neighborhood_index,District_index])\n",
    "#encoder.fit(X_train, y_train)\n",
    "#X_train_encoded = encoder.transform(X_train).values\n",
    "#X_test_encoded = encoder.transform(X_test).values"
   ]
  },
  {
   "cell_type": "code",
   "execution_count": 55,
   "metadata": {},
   "outputs": [],
   "source": [
    "X_train_norm = (X_train - np.mean(X_train, axis=0)) / np.std(X_train, axis=0)\n",
    "X_test_norm = (X_test - np.mean(X_train, axis=0)) / np.std(X_train, axis=0)"
   ]
  },
  {
   "cell_type": "code",
   "execution_count": null,
   "metadata": {},
   "outputs": [],
   "source": [
    "xgb =  xg.XGBRegressor(objective ='reg:squarederror',\n",
    "                                 learning_rate =0.01, # smaller learning rate\n",
    "                                 n_estimators = 1000, # larger number of trees\n",
    "                                 max_depth = 12, \n",
    "                                  # L1 regularization\n",
    "                                 # L2 regularization\n",
    "                                 subsample = 0.5, # fraction of samples used for each tree\n",
    "                                 colsample_bytree = 0.2, # fraction of columns used for each tree\n",
    "                            # early stopping after 50 rounds without improvement\n",
    "                                 eval_metric = 'rmse', # evaluation metric\n",
    "                                 verbose = True) # set to True to see training progress"
   ]
  },
  {
   "cell_type": "code",
   "execution_count": null,
   "metadata": {},
   "outputs": [],
   "source": [
    "xgb.fit(X_train, y_train)"
   ]
  },
  {
   "cell_type": "code",
   "execution_count": null,
   "metadata": {},
   "outputs": [],
   "source": [
    "# Evaluate the model\n",
    "y_pred_train = xgb.predict(X_train)\n",
    "y_pred_test = xgb.predict(X_test)"
   ]
  },
  {
   "cell_type": "code",
   "execution_count": null,
   "metadata": {},
   "outputs": [],
   "source": [
    "#Mean Square Error Calculation\n",
    "mse_train = MSE(y_train, y_pred_train)\n",
    "mse_test = MSE(y_test, y_pred_test)\n",
    "print(f'Train MSE: {mse_train}')\n",
    "print(f'Test MSE: {mse_test}')"
   ]
  },
  {
   "cell_type": "code",
   "execution_count": null,
   "metadata": {},
   "outputs": [],
   "source": [
    "lower_threshold = np.percentile(y_test, 1) # 1% percentile\n",
    "upper_threshold = np.percentile(y_test, 99) # 99% percentile\n",
    "\n",
    "# Truncate outliers\n",
    "y_test_clipped = np.clip(y_test, lower_threshold, upper_threshold)\n",
    "y_pred_clipped = np.clip(y_pred_test, lower_threshold, upper_threshold)\n",
    "\n",
    "# Plot the scatter plot\n",
    "plt.scatter(y_test_clipped, y_pred_clipped, c='crimson')\n",
    "plt.xlabel('y_test')\n",
    "plt.ylabel('y_pred')\n",
    "plt.show()"
   ]
  },
  {
   "cell_type": "code",
   "execution_count": 56,
   "metadata": {},
   "outputs": [
    {
     "data": {
      "text/plain": [
       "City                    0\n",
       "District                0\n",
       "Neighborhood            0\n",
       "Oda + Salon Sayısı      0\n",
       "Brüt / Net              0\n",
       "Bina Yaşı               0\n",
       "Kat Sayısı              0\n",
       "Eşya Durumu           127\n",
       "Banyo Sayısı            6\n",
       "Yapının Durumu        637\n",
       "Aidat                 809\n",
       "Rent                    0\n",
       "dtype: int64"
      ]
     },
     "execution_count": 56,
     "metadata": {},
     "output_type": "execute_result"
    }
   ],
   "source": [
    "y_test_log = np.log1p(y_test)\n",
    "y_pred_log = np.log1p(y_pred)\n",
    "\n",
    "plt.scatter(y_test_log, y_pred_log, c='crimson')\n",
    "plt.xlabel('log(y_test + 1)')\n",
    "plt.ylabel('log(y_pred + 1)')\n",
    "plt.show()"
   ]
  },
  {
   "cell_type": "code",
   "execution_count": 57,
   "metadata": {},
   "outputs": [],
   "source": [
    "from sklearn.metrics import r2_score\n",
    "r2 = r2_score(y_test, y_pred)\n",
    "print(\"R^2:\", r2)\n"
   ]
  }
 ],
 "metadata": {
  "kernelspec": {
   "display_name": "machine_learn",
   "language": "python",
   "name": "python3"
  },
  "language_info": {
   "codemirror_mode": {
    "name": "ipython",
    "version": 3
   },
   "file_extension": ".py",
   "mimetype": "text/x-python",
   "name": "python",
   "nbconvert_exporter": "python",
   "pygments_lexer": "ipython3",
   "version": "3.9.15"
  },
  "orig_nbformat": 4
 },
 "nbformat": 4,
 "nbformat_minor": 2
}
